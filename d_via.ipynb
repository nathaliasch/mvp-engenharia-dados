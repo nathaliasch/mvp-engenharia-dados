{
 "cells": [
  {
   "cell_type": "markdown",
   "metadata": {
    "application/vnd.databricks.v1+cell": {
     "cellMetadata": {
      "byteLimit": 2048000,
      "rowLimit": 10000
     },
     "inputWidgets": {},
     "nuid": "1bc95398-787f-40cb-a82c-acc8ce320c67",
     "showTitle": false,
     "title": ""
    }
   },
   "source": [
    "\n",
    "## Extração da dimensão d_via para a camada gold\n"
   ]
  },
  {
   "cell_type": "code",
   "execution_count": 0,
   "metadata": {
    "application/vnd.databricks.v1+cell": {
     "cellMetadata": {
      "byteLimit": 2048000,
      "implicitDf": true,
      "rowLimit": 10000
     },
     "inputWidgets": {},
     "nuid": "23b403d3-dcb9-48e9-9c36-4671f16a5470",
     "showTitle": false,
     "title": ""
    }
   },
   "outputs": [
    {
     "output_type": "display_data",
     "data": {
      "text/html": [
       "<style scoped>\n",
       "  .table-result-container {\n",
       "    max-height: 300px;\n",
       "    overflow: auto;\n",
       "  }\n",
       "  table, th, td {\n",
       "    border: 1px solid black;\n",
       "    border-collapse: collapse;\n",
       "  }\n",
       "  th, td {\n",
       "    padding: 5px;\n",
       "  }\n",
       "  th {\n",
       "    text-align: left;\n",
       "  }\n",
       "</style><div class='table-result-container'><table class='table-result'><thead style='background-color: white'><tr><th>CO_VIA</th><th>NO_VIA</th></tr></thead><tbody><tr><td>99</td><td>VIA DESCONHECIDA</td></tr><tr><td>13</td><td>POR REBOQUE</td></tr><tr><td>11</td><td>COURIER</td></tr><tr><td>15</td><td>VICINAL FRONTEIRICO</td></tr><tr><td>14</td><td>DUTOS</td></tr><tr><td>12</td><td>EM MAOS</td></tr><tr><td>0</td><td>VIA NAO DECLARADA</td></tr><tr><td>1</td><td>MARITIMA</td></tr><tr><td>2</td><td>FLUVIAL</td></tr><tr><td>3</td><td>LACUSTRE</td></tr><tr><td>4</td><td>AEREA</td></tr><tr><td>5</td><td>POSTAL</td></tr><tr><td>6</td><td>FERROVIARIA</td></tr><tr><td>7</td><td>RODOVIARIA</td></tr><tr><td>8</td><td>CONDUTO/REDE DE TRANSMISSAO</td></tr><tr><td>9</td><td>MEIOS PROPRIOS</td></tr><tr><td>10</td><td>ENTRADA/SAIDA FICTA</td></tr></tbody></table></div>"
      ]
     },
     "metadata": {
      "application/vnd.databricks.v1+output": {
       "addedWidgets": {},
       "aggData": [],
       "aggError": "",
       "aggOverflow": false,
       "aggSchema": [],
       "aggSeriesLimitReached": false,
       "aggType": "",
       "arguments": {},
       "columnCustomDisplayInfos": {},
       "data": [
        [
         99,
         "VIA DESCONHECIDA"
        ],
        [
         13,
         "POR REBOQUE"
        ],
        [
         11,
         "COURIER"
        ],
        [
         15,
         "VICINAL FRONTEIRICO"
        ],
        [
         14,
         "DUTOS"
        ],
        [
         12,
         "EM MAOS"
        ],
        [
         0,
         "VIA NAO DECLARADA"
        ],
        [
         1,
         "MARITIMA"
        ],
        [
         2,
         "FLUVIAL"
        ],
        [
         3,
         "LACUSTRE"
        ],
        [
         4,
         "AEREA"
        ],
        [
         5,
         "POSTAL"
        ],
        [
         6,
         "FERROVIARIA"
        ],
        [
         7,
         "RODOVIARIA"
        ],
        [
         8,
         "CONDUTO/REDE DE TRANSMISSAO"
        ],
        [
         9,
         "MEIOS PROPRIOS"
        ],
        [
         10,
         "ENTRADA/SAIDA FICTA"
        ]
       ],
       "datasetInfos": [
        {
         "name": "_sqldf",
         "schema": {
          "fields": [
           {
            "metadata": {},
            "name": "CO_VIA",
            "nullable": true,
            "type": "long"
           },
           {
            "metadata": {},
            "name": "NO_VIA",
            "nullable": true,
            "type": "string"
           }
          ],
          "type": "struct"
         },
         "tableIdentifier": null,
         "typeStr": "pyspark.sql.dataframe.DataFrame"
        }
       ],
       "dbfsResultPath": null,
       "isJsonSchema": true,
       "metadata": {
        "dataframeName": "_sqldf",
        "executionCount": 1
       },
       "overflow": false,
       "plotOptions": {
        "customPlotOptions": {},
        "displayType": "table",
        "pivotAggregation": null,
        "pivotColumns": null,
        "xColumns": null,
        "yColumns": null
       },
       "removedWidgets": [],
       "schema": [
        {
         "metadata": "{}",
         "name": "CO_VIA",
         "type": "\"long\""
        },
        {
         "metadata": "{}",
         "name": "NO_VIA",
         "type": "\"string\""
        }
       ],
       "type": "table"
      }
     },
     "output_type": "display_data"
    }
   ],
   "source": [
    "%sql\n",
    "\n",
    "-- faz um select para verificar a tabela que está na camada bronze\n",
    "\n",
    "select * from bronze.co_via"
   ]
  },
  {
   "cell_type": "code",
   "execution_count": 0,
   "metadata": {
    "application/vnd.databricks.v1+cell": {
     "cellMetadata": {
      "byteLimit": 2048000,
      "rowLimit": 10000
     },
     "inputWidgets": {},
     "nuid": "366b554d-9165-4a70-a824-b708e0124ce6",
     "showTitle": false,
     "title": ""
    }
   },
   "outputs": [],
   "source": [
    "mapping_columns = {\n",
    "    'CO_VIA':'cod_via',\n",
    "    'NO_VIA':'nm_via'\n",
    "}"
   ]
  },
  {
   "cell_type": "code",
   "execution_count": 0,
   "metadata": {
    "application/vnd.databricks.v1+cell": {
     "cellMetadata": {
      "byteLimit": 2048000,
      "rowLimit": 10000
     },
     "inputWidgets": {},
     "nuid": "5c8a97c3-cb55-434b-b047-644a205034e6",
     "showTitle": false,
     "title": ""
    }
   },
   "outputs": [],
   "source": [
    "from pyspark.sql.functions import col\n",
    "\n",
    "# Crie um DataFrame a partir da consulta SQL\n",
    "df = spark.sql(\"\"\"\n",
    "SELECT *\n",
    "FROM bronze.co_via\n",
    "\n",
    "\"\"\")\n",
    "\n",
    "\n",
    "# Renomeie as colunas de acordo com o mapeamento\n",
    "for old_col, new_col in mapping_columns.items():\n",
    "    df = df.withColumnRenamed(old_col, new_col)"
   ]
  },
  {
   "cell_type": "code",
   "execution_count": 0,
   "metadata": {
    "application/vnd.databricks.v1+cell": {
     "cellMetadata": {
      "byteLimit": 2048000,
      "rowLimit": 10000
     },
     "inputWidgets": {},
     "nuid": "54d4209d-9e0a-4b93-8c94-34b94f13068f",
     "showTitle": false,
     "title": ""
    }
   },
   "outputs": [],
   "source": [
    "# Crie a view temporária com o DataFrame renomeado\n",
    "df.createOrReplaceTempView('vw_co_via')"
   ]
  },
  {
   "cell_type": "code",
   "execution_count": 0,
   "metadata": {
    "application/vnd.databricks.v1+cell": {
     "cellMetadata": {
      "byteLimit": 2048000,
      "rowLimit": 10000
     },
     "inputWidgets": {},
     "nuid": "45bab523-ca05-4781-91f3-c8e3597f36b7",
     "showTitle": false,
     "title": ""
    }
   },
   "outputs": [],
   "source": [
    "permanent_table = \"d_via\"\n",
    "\n",
    "df.write.format(\"parquet\").saveAsTable(permanent_table)"
   ]
  },
  {
   "cell_type": "code",
   "execution_count": 0,
   "metadata": {
    "application/vnd.databricks.v1+cell": {
     "cellMetadata": {
      "byteLimit": 2048000,
      "implicitDf": true,
      "rowLimit": 10000
     },
     "inputWidgets": {},
     "nuid": "095a3560-57e6-4c6e-9f0e-cae8ee4d68cd",
     "showTitle": false,
     "title": ""
    }
   },
   "outputs": [
    {
     "output_type": "display_data",
     "data": {
      "text/html": [
       "<style scoped>\n",
       "  .table-result-container {\n",
       "    max-height: 300px;\n",
       "    overflow: auto;\n",
       "  }\n",
       "  table, th, td {\n",
       "    border: 1px solid black;\n",
       "    border-collapse: collapse;\n",
       "  }\n",
       "  th, td {\n",
       "    padding: 5px;\n",
       "  }\n",
       "  th {\n",
       "    text-align: left;\n",
       "  }\n",
       "</style><div class='table-result-container'><table class='table-result'><thead style='background-color: white'><tr><th>num_affected_rows</th><th>num_inserted_rows</th></tr></thead><tbody></tbody></table></div>"
      ]
     },
     "metadata": {
      "application/vnd.databricks.v1+output": {
       "addedWidgets": {},
       "aggData": [],
       "aggError": "",
       "aggOverflow": false,
       "aggSchema": [],
       "aggSeriesLimitReached": false,
       "aggType": "",
       "arguments": {},
       "columnCustomDisplayInfos": {},
       "data": [],
       "datasetInfos": [
        {
         "name": "_sqldf",
         "schema": {
          "fields": [
           {
            "metadata": {},
            "name": "num_affected_rows",
            "nullable": true,
            "type": "long"
           },
           {
            "metadata": {},
            "name": "num_inserted_rows",
            "nullable": true,
            "type": "long"
           }
          ],
          "type": "struct"
         },
         "tableIdentifier": null,
         "typeStr": "pyspark.sql.dataframe.DataFrame"
        }
       ],
       "dbfsResultPath": null,
       "isJsonSchema": true,
       "metadata": {
        "dataframeName": "_sqldf",
        "executionCount": 6
       },
       "overflow": false,
       "plotOptions": {
        "customPlotOptions": {},
        "displayType": "table",
        "pivotAggregation": null,
        "pivotColumns": null,
        "xColumns": null,
        "yColumns": null
       },
       "removedWidgets": [],
       "schema": [
        {
         "metadata": "{}",
         "name": "num_affected_rows",
         "type": "\"long\""
        },
        {
         "metadata": "{}",
         "name": "num_inserted_rows",
         "type": "\"long\""
        }
       ],
       "type": "table"
      }
     },
     "output_type": "display_data"
    }
   ],
   "source": [
    "%sql\n",
    "\n",
    "-- mudando a tabela para o schema silver\n",
    "\n",
    "CREATE TABLE IF NOT EXISTS gold.d_via AS SELECT * FROM default.d_via;"
   ]
  }
 ],
 "metadata": {
  "application/vnd.databricks.v1+notebook": {
   "dashboards": [],
   "language": "python",
   "notebookMetadata": {
    "mostRecentlyExecutedCommandWithImplicitDF": {
     "commandId": 391859381773033,
     "dataframes": [
      "_sqldf"
     ]
    },
    "pythonIndentUnit": 4
   },
   "notebookName": "d_via",
   "widgets": {}
  }
 },
 "nbformat": 4,
 "nbformat_minor": 0
}
