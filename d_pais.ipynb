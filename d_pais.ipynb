{
 "cells": [
  {
   "cell_type": "markdown",
   "metadata": {
    "application/vnd.databricks.v1+cell": {
     "cellMetadata": {
      "byteLimit": 2048000,
      "rowLimit": 10000
     },
     "inputWidgets": {},
     "nuid": "1bc95398-787f-40cb-a82c-acc8ce320c67",
     "showTitle": false,
     "title": ""
    }
   },
   "source": [
    "\n",
    "## Extração da dimensão d_pais para a camada gold\n"
   ]
  },
  {
   "cell_type": "code",
   "execution_count": 0,
   "metadata": {
    "application/vnd.databricks.v1+cell": {
     "cellMetadata": {
      "byteLimit": 2048000,
      "implicitDf": true,
      "rowLimit": 10000
     },
     "inputWidgets": {},
     "nuid": "23b403d3-dcb9-48e9-9c36-4671f16a5470",
     "showTitle": false,
     "title": ""
    }
   },
   "outputs": [
    {
     "output_type": "display_data",
     "data": {
      "text/html": [
       "<style scoped>\n",
       "  .table-result-container {\n",
       "    max-height: 300px;\n",
       "    overflow: auto;\n",
       "  }\n",
       "  table, th, td {\n",
       "    border: 1px solid black;\n",
       "    border-collapse: collapse;\n",
       "  }\n",
       "  th, td {\n",
       "    padding: 5px;\n",
       "  }\n",
       "  th {\n",
       "    text-align: left;\n",
       "  }\n",
       "</style><div class='table-result-container'><table class='table-result'><thead style='background-color: white'><tr><th>CO_PAIS</th><th>CO_PAIS_ISON3</th><th>CO_PAIS_ISOA3</th><th>NO_PAIS</th><th>NO_PAIS_ING</th><th>NO_PAIS_ESP</th></tr></thead><tbody><tr><td>0</td><td>898</td><td>ZZZ</td><td>Não Definido</td><td>Not defined</td><td>No definido</td></tr><tr><td>13</td><td>4</td><td>AFG</td><td>Afeganistão</td><td>Afghanistan</td><td>Afganistan</td></tr><tr><td>15</td><td>248</td><td>ALA</td><td>Aland, Ilhas</td><td>Aland Islands</td><td>Alans, Islas</td></tr><tr><td>17</td><td>8</td><td>ALB</td><td>Albânia</td><td>Albania</td><td>Albania</td></tr><tr><td>20</td><td>724</td><td>ESP</td><td>Alboran-Perejil, Ilhas</td><td>Alboran-Perejil, Islands</td><td>Alboran-Perejil, Islas</td></tr><tr><td>23</td><td>276</td><td>DEU</td><td>Alemanha</td><td>Germany</td><td>Alemania</td></tr><tr><td>25</td><td>278</td><td>DEU</td><td>Alemanha Oriental</td><td>East Germany</td><td>Alemania del Este</td></tr><tr><td>31</td><td>854</td><td>BFA</td><td>Burkina Faso</td><td>Burkina Faso</td><td>Burkina Faso</td></tr><tr><td>37</td><td>20</td><td>AND</td><td>Andorra</td><td>Andorra</td><td>Andorra</td></tr><tr><td>40</td><td>24</td><td>AGO</td><td>Angola</td><td>Angola</td><td>Angola</td></tr><tr><td>41</td><td>660</td><td>AIA</td><td>Anguilla</td><td>Anguilla</td><td>Anguilla</td></tr><tr><td>42</td><td>10</td><td>ATA</td><td>Antártica</td><td>Antarctica</td><td>Antártida</td></tr><tr><td>43</td><td>28</td><td>ATG</td><td>Antígua e Barbuda</td><td>Antigua and Barbuda</td><td>Antigua y Barbuda</td></tr><tr><td>47</td><td>530</td><td>ANT</td><td>Antilhas Holandesas</td><td>Netherlands Antilles</td><td>Antillas Holandesas</td></tr><tr><td>53</td><td>682</td><td>SAU</td><td>Arábia Saudita</td><td>Saudi Arabia</td><td>Arabia Saudita</td></tr><tr><td>59</td><td>12</td><td>DZA</td><td>Argélia</td><td>Algeria</td><td>Argelia</td></tr><tr><td>63</td><td>32</td><td>ARG</td><td>Argentina</td><td>Argentina</td><td>Argentina</td></tr><tr><td>64</td><td>51</td><td>ARM</td><td>Armênia</td><td>Armenia</td><td>Armenia</td></tr><tr><td>65</td><td>533</td><td>ABW</td><td>Aruba</td><td>Aruba</td><td>Aruba</td></tr><tr><td>69</td><td>36</td><td>AUS</td><td>Austrália</td><td>Australia</td><td>Australia</td></tr><tr><td>72</td><td>40</td><td>AUT</td><td>Áustria</td><td>Austria</td><td>Austria</td></tr><tr><td>73</td><td>31</td><td>AZE</td><td>Azerbaijão</td><td>Azerbaijan</td><td>Acerbaiyan</td></tr><tr><td>77</td><td>44</td><td>BHS</td><td>Bahamas</td><td>Bahamas</td><td>Bahamas</td></tr><tr><td>80</td><td>48</td><td>BHR</td><td>Barein</td><td>Bahrein</td><td>Bahrein</td></tr><tr><td>81</td><td>50</td><td>BGD</td><td>Bangladesh</td><td>Bangladesh</td><td>Bangladesh</td></tr><tr><td>83</td><td>52</td><td>BRB</td><td>Barbados</td><td>Barbados</td><td>Barbados</td></tr><tr><td>85</td><td>112</td><td>BLR</td><td>Belarus</td><td>Belarus</td><td>Belarús</td></tr><tr><td>87</td><td>56</td><td>BEL</td><td>Bélgica</td><td>Belgium</td><td>Bélgica</td></tr><tr><td>88</td><td>84</td><td>BLZ</td><td>Belize</td><td>Belize</td><td>Belice</td></tr><tr><td>90</td><td>60</td><td>BMU</td><td>Bermudas</td><td>Bermuda</td><td>Bermuda</td></tr><tr><td>93</td><td>104</td><td>MMR</td><td>Mianmar</td><td>Myanmar</td><td>Myanmar</td></tr><tr><td>97</td><td>68</td><td>BOL</td><td>Bolívia</td><td>Bolivia</td><td>Bolivia</td></tr><tr><td>98</td><td>70</td><td>BIH</td><td>Bósnia-Herzegovina</td><td>Bosnia and Herzegovina</td><td>Bosnia y Herzegovina</td></tr><tr><td>99</td><td>535</td><td>BES</td><td>Bonaire, Saint Eustatius e Saba</td><td>Bonaire, Saint Eustatius and Saba</td><td>Bonaire, Saint Eustatius y Saba</td></tr><tr><td>100</td><td>898</td><td>BRA</td><td>Internação na Zona Franca de Manaus</td><td>Internment in the Manaus Free Trade Zone</td><td>Internamiento de la Zona Franca de Manaus</td></tr><tr><td>101</td><td>72</td><td>BWA</td><td>Botsuana</td><td>Botswana</td><td>Botswana</td></tr><tr><td>102</td><td>74</td><td>BVT</td><td>Bouvet, Ilha</td><td>Bouvet Island</td><td>Bouvet, Isla</td></tr><tr><td>105</td><td>76</td><td>BRA</td><td>Brasil</td><td>Brazil</td><td>Brasil</td></tr><tr><td>108</td><td>96</td><td>BRN</td><td>Brunei</td><td>Brunei</td><td>Brunei</td></tr><tr><td>111</td><td>100</td><td>BGR</td><td>Bulgária</td><td>Bulgaria</td><td>Bulgaria</td></tr><tr><td>115</td><td>108</td><td>BDI</td><td>Burundi</td><td>Burundi</td><td>Burundi</td></tr><tr><td>119</td><td>64</td><td>BTN</td><td>Butão</td><td>Bhutan</td><td>Bhután</td></tr><tr><td>127</td><td>132</td><td>CPV</td><td>Cabo Verde</td><td>Cape Verde</td><td>Cabo Verde</td></tr><tr><td>137</td><td>136</td><td>CYM</td><td>Cayman, Ilhas</td><td>Cayman Islands</td><td>Caimán, Islas</td></tr><tr><td>141</td><td>116</td><td>KHM</td><td>Camboja</td><td>Cambodia</td><td>Camboya</td></tr><tr><td>145</td><td>120</td><td>CMR</td><td>Camarões</td><td>Cameroon</td><td>Camerún</td></tr><tr><td>149</td><td>124</td><td>CAN</td><td>Canadá</td><td>Canada</td><td>Canadá</td></tr><tr><td>150</td><td>831</td><td>GGY</td><td>Canal, Ilhas do (Guernsey)</td><td>Guernsey</td><td>Guernsey</td></tr><tr><td>151</td><td>724</td><td>ESP</td><td>Canárias, Ilhas</td><td>Canary, Islands</td><td>Canarias, Islas</td></tr><tr><td>152</td><td>826</td><td>GBR</td><td>Canal, Ilhas do (Jersey)</td><td>Jersey</td><td>Jersey</td></tr><tr><td>153</td><td>398</td><td>KAZ</td><td>Cazaquistão</td><td>Kazakhstan</td><td>Kazakhstán</td></tr><tr><td>154</td><td>634</td><td>QAT</td><td>Catar</td><td>Qatar</td><td>Qatar</td></tr><tr><td>158</td><td>152</td><td>CHL</td><td>Chile</td><td>Chile</td><td>Chile</td></tr><tr><td>160</td><td>156</td><td>CHN</td><td>China</td><td>China</td><td>China</td></tr><tr><td>161</td><td>158</td><td>TWN</td><td>Taiwan (Formosa)</td><td>Taiwan</td><td>Taiwán</td></tr><tr><td>163</td><td>196</td><td>CYP</td><td>Chipre</td><td>Cyprus</td><td>Chipre</td></tr><tr><td>165</td><td>166</td><td>CCK</td><td>Cocos (Keeling), Ilhas</td><td>Cocos (Keeling) Islands</td><td>Cocos (Keeling), Islas</td></tr><tr><td>169</td><td>170</td><td>COL</td><td>Colômbia</td><td>Colombia</td><td>Colombia</td></tr><tr><td>173</td><td>174</td><td>COM</td><td>Comores</td><td>Comoros</td><td>Comoras</td></tr><tr><td>177</td><td>178</td><td>COG</td><td>Congo</td><td>Congo</td><td>Congo</td></tr><tr><td>183</td><td>184</td><td>COK</td><td>Cook, Ilhas</td><td>Cook Islands</td><td>Cook, Islas</td></tr><tr><td>187</td><td>408</td><td>PRK</td><td>Coreia do Norte</td><td>North Korea</td><td>Corea (Norte)</td></tr><tr><td>190</td><td>410</td><td>KOR</td><td>Coreia do Sul</td><td>South Korea</td><td>Corea (Sur)</td></tr><tr><td>193</td><td>384</td><td>CIV</td><td>Costa do Marfim</td><td>Cote D'Ivore</td><td>Costa de Marfil</td></tr><tr><td>195</td><td>191</td><td>HRV</td><td>Croácia</td><td>Croatia</td><td>Croacia</td></tr><tr><td>196</td><td>188</td><td>CRI</td><td>Costa Rica</td><td>Costa Rica</td><td>Costa Rica</td></tr><tr><td>198</td><td>414</td><td>KWT</td><td>Coveite (Kuweit)</td><td>Kuwait</td><td>Kuwait</td></tr><tr><td>199</td><td>192</td><td>CUB</td><td>Cuba</td><td>Cuba</td><td>Cuba</td></tr><tr><td>200</td><td>531</td><td>CUW</td><td>Curaçao</td><td>Curaçao</td><td>Curazao</td></tr><tr><td>229</td><td>204</td><td>BEN</td><td>Benin</td><td>Benin</td><td>Benin</td></tr><tr><td>232</td><td>208</td><td>DNK</td><td>Dinamarca</td><td>Denmark</td><td>Dinamarca</td></tr><tr><td>235</td><td>212</td><td>DMA</td><td>Dominica</td><td>Dominica Island</td><td>Dominica</td></tr><tr><td>237</td><td>784</td><td>ARE</td><td>Dubai</td><td>Dubai</td><td>Dubai</td></tr><tr><td>239</td><td>218</td><td>ECU</td><td>Equador</td><td>Ecuador</td><td>Ecuador</td></tr><tr><td>240</td><td>818</td><td>EGY</td><td>Egito</td><td>Egypt</td><td>Egipto</td></tr><tr><td>243</td><td>232</td><td>ERI</td><td>Eritreia</td><td>Eritrea</td><td>Eritrea</td></tr><tr><td>244</td><td>784</td><td>ARE</td><td>Emirados Árabes Unidos</td><td>United Arab Emirates</td><td>Emiratos Árabes Unidos</td></tr><tr><td>245</td><td>724</td><td>ESP</td><td>Espanha</td><td>Spain</td><td>España</td></tr><tr><td>246</td><td>705</td><td>SVN</td><td>Eslovênia</td><td>Slovenia</td><td>Eslovenia</td></tr><tr><td>247</td><td>703</td><td>SVK</td><td>Eslováquia</td><td>Slovakia</td><td>Eslovaquia</td></tr><tr><td>249</td><td>840</td><td>USA</td><td>Estados Unidos</td><td>United States</td><td>Estados Unidos</td></tr><tr><td>251</td><td>233</td><td>EST</td><td>Estônia</td><td>Estonia</td><td>Estonia</td></tr><tr><td>253</td><td>231</td><td>ETH</td><td>Etiópia</td><td>Ethiopia</td><td>Etiopía</td></tr><tr><td>255</td><td>238</td><td>FLK</td><td>Falkland (Malvinas)</td><td>Falkland Islands (Malvinas)</td><td>Malvinas (Falkland), Islas</td></tr><tr><td>259</td><td>234</td><td>FRO</td><td>Faroe, Ilhas</td><td>Faroe Islands</td><td>Feroé, Islas</td></tr><tr><td>267</td><td>608</td><td>PHL</td><td>Filipinas</td><td>Philippines</td><td>Filipinas</td></tr><tr><td>271</td><td>246</td><td>FIN</td><td>Finlândia</td><td>Finland</td><td>Finlandia</td></tr><tr><td>275</td><td>250</td><td>FRA</td><td>França</td><td>France</td><td>Francia</td></tr><tr><td>281</td><td>266</td><td>GAB</td><td>Gabão</td><td>Gabon</td><td>Gabón</td></tr><tr><td>285</td><td>270</td><td>GMB</td><td>Gâmbia</td><td>Gambia</td><td>Gambia</td></tr><tr><td>289</td><td>288</td><td>GHA</td><td>Gana</td><td>Ghana</td><td>Ghana</td></tr><tr><td>291</td><td>268</td><td>GEO</td><td>Geórgia</td><td>Georgia</td><td>Georgia</td></tr><tr><td>292</td><td>239</td><td>SGS</td><td>Geórgia do Sul e Sandwich do Sul, Ilhas</td><td>South Georgia and the South Sandwich Islands</td><td>Islas Georgias del Sur y Sandwich del Sur</td></tr><tr><td>293</td><td>292</td><td>GIB</td><td>Gibraltar</td><td>Gibraltar</td><td>Gibraltar</td></tr><tr><td>297</td><td>308</td><td>GRD</td><td>Granada</td><td>Grenada</td><td>Granada</td></tr><tr><td>301</td><td>300</td><td>GRC</td><td>Grécia</td><td>Greece</td><td>Grecia</td></tr><tr><td>305</td><td>304</td><td>GRL</td><td>Groenlândia</td><td>Greenland</td><td>Groenlandia</td></tr><tr><td>309</td><td>312</td><td>GLP</td><td>Guadalupe</td><td>Guadeloupe</td><td>Guadalupe</td></tr><tr><td>313</td><td>316</td><td>GUM</td><td>Guam</td><td>Guam</td><td>Guam</td></tr><tr><td>317</td><td>320</td><td>GTM</td><td>Guatemala</td><td>Guatemala</td><td>Guatemala</td></tr><tr><td>321</td><td>898</td><td>GGY</td><td>Guernsey</td><td>Guernsey</td><td>Guernsey</td></tr><tr><td>325</td><td>254</td><td>GUF</td><td>Guiana Francesa</td><td>French Guyana</td><td>Guyana Francesa</td></tr><tr><td>329</td><td>324</td><td>GIN</td><td>Guiné</td><td>Guinea</td><td>Guinea</td></tr><tr><td>331</td><td>226</td><td>GNQ</td><td>Guiné Equatorial</td><td>Equatorial Guinea</td><td>Guinea Ecuatorial</td></tr><tr><td>334</td><td>624</td><td>GNB</td><td>Guiné-Bissau</td><td>Guinea-Bissau</td><td>Guinea-Bissau</td></tr><tr><td>337</td><td>328</td><td>GUY</td><td>Guiana</td><td>Guyana</td><td>Guyana</td></tr><tr><td>341</td><td>332</td><td>HTI</td><td>Haiti</td><td>Haiti</td><td>Haiti</td></tr><tr><td>343</td><td>334</td><td>HMD</td><td>Heard e ilhas mcdonald, Ilha</td><td>\n",
       "</td><td>null</td></tr><tr><td>null</td><td>null</td><td>null</td><td>null</td><td>null</td><td>null</td></tr><tr><td>345</td><td>340</td><td>HND</td><td>Honduras</td><td>Honduras</td><td>Honduras</td></tr><tr><td>351</td><td>344</td><td>HKG</td><td>Hong Kong</td><td>Hong Kong</td><td>Hong Kong</td></tr><tr><td>355</td><td>348</td><td>HUN</td><td>Hungria</td><td>Hungary</td><td>Hungría</td></tr><tr><td>357</td><td>887</td><td>YEM</td><td>Iêmen</td><td>Yemen</td><td>Yemen</td></tr><tr><td>358</td><td>720</td><td>YMD</td><td>Iêmen Democrático</td><td>Democratic Yemen</td><td>Yemen Democrático</td></tr><tr><td>359</td><td>833</td><td>IMN</td><td>Ilha de Man</td><td>Isle of Man</td><td>Isla de Man</td></tr><tr><td>361</td><td>356</td><td>IND</td><td>Índia</td><td>India</td><td>India</td></tr><tr><td>365</td><td>360</td><td>IDN</td><td>Indonésia</td><td>Indonesia</td><td>Indonesia</td></tr><tr><td>367</td><td>826</td><td>GBR</td><td>Inglaterra</td><td>England</td><td>Inglaterra</td></tr><tr><td>369</td><td>368</td><td>IRQ</td><td>Iraque</td><td>Iraq</td><td>Irak</td></tr><tr><td>372</td><td>364</td><td>IRN</td><td>Irã</td><td>Iran</td><td>Irán</td></tr><tr><td>375</td><td>372</td><td>IRL</td><td>Irlanda</td><td>Ireland</td><td>Irlanda</td></tr><tr><td>379</td><td>352</td><td>ISL</td><td>Islândia</td><td>Iceland</td><td>Islandia</td></tr><tr><td>383</td><td>376</td><td>ISR</td><td>Israel</td><td>Israel</td><td>Israel</td></tr><tr><td>386</td><td>380</td><td>ITA</td><td>Itália</td><td>Italy</td><td>Italia</td></tr><tr><td>388</td><td>891</td><td>SCG</td><td>Iugoslávia</td><td>Yugoslavia</td><td>Yugoslavia</td></tr><tr><td>391</td><td>388</td><td>JAM</td><td>Jamaica</td><td>Jamaica</td><td>Jamaica</td></tr><tr><td>393</td><td>898</td><td>ZZZ</td><td>Jersey</td><td>Jersey</td><td>Jersey</td></tr><tr><td>396</td><td>840</td><td>USA</td><td>Johnston, Ilhas</td><td>Johnston (Island)</td><td>Johnston (Isla)</td></tr><tr><td>399</td><td>392</td><td>JPN</td><td>Japão</td><td>Japan</td><td>Japón</td></tr><tr><td>403</td><td>400</td><td>JOR</td><td>Jordânia</td><td>Jordan</td><td>Jordania</td></tr><tr><td>411</td><td>296</td><td>KIR</td><td>Kiribati</td><td>Kiribati</td><td>Kiribati</td></tr><tr><td>420</td><td>418</td><td>LAO</td><td>Laos</td><td>Laos</td><td>Laos</td></tr><tr><td>423</td><td>458</td><td>MYS</td><td>Lebuan, Ilhas</td><td>Lebuan</td><td>Lebuan</td></tr><tr><td>426</td><td>426</td><td>LSO</td><td>Lesoto</td><td>Lesotho</td><td>Lesotho</td></tr><tr><td>427</td><td>428</td><td>LVA</td><td>Letônia</td><td>Latvia</td><td>Letonia</td></tr><tr><td>431</td><td>422</td><td>LBN</td><td>Líbano</td><td>Lebanon</td><td>Líbano</td></tr><tr><td>434</td><td>430</td><td>LBR</td><td>Libéria</td><td>Liberia</td><td>Liberia</td></tr><tr><td>438</td><td>434</td><td>LBY</td><td>Líbia</td><td>Libya</td><td>Libia</td></tr><tr><td>440</td><td>438</td><td>LIE</td><td>Liechtenstein</td><td>Liechtenstein</td><td>Liechtenstein</td></tr><tr><td>442</td><td>440</td><td>LTU</td><td>Lituânia</td><td>Lithuania</td><td>Lituania</td></tr><tr><td>445</td><td>442</td><td>LUX</td><td>Luxemburgo</td><td>Luxembourg</td><td>Luxemburgo</td></tr><tr><td>447</td><td>446</td><td>MAC</td><td>Macau</td><td>Macao</td><td>Macao</td></tr><tr><td>449</td><td>807</td><td>MKD</td><td>Macedônia</td><td>Macedonia</td><td>Macedonia</td></tr><tr><td>450</td><td>450</td><td>MDG</td><td>Madagascar</td><td>Madagascar</td><td>Madagascar</td></tr><tr><td>452</td><td>620</td><td>PRT</td><td>Madeira, Ilha da</td><td>Madeira</td><td>Madeira</td></tr><tr><td>455</td><td>458</td><td>MYS</td><td>Malásia</td><td>Malaysia</td><td>Malasia</td></tr><tr><td>458</td><td>454</td><td>MWI</td><td>Malavi</td><td>Malawi</td><td>Malawi</td></tr><tr><td>461</td><td>462</td><td>MDV</td><td>Maldivas</td><td>Maldives</td><td>Maldivas</td></tr><tr><td>464</td><td>466</td><td>MLI</td><td>Mali</td><td>Mali</td><td>Mali</td></tr><tr><td>467</td><td>470</td><td>MLT</td><td>Malta</td><td>Malta</td><td>Malta</td></tr><tr><td>472</td><td>580</td><td>MNP</td><td>Marianas do Norte, Ilhas</td><td>Northern Marianas</td><td>Marianas Septentrionales, Islas</td></tr><tr><td>474</td><td>504</td><td>MAR</td><td>Marrocos</td><td>Morocco</td><td>Marruecos</td></tr><tr><td>476</td><td>584</td><td>MHL</td><td>Marshall, Ilhas</td><td>Marshall Islands</td><td>Islas Marshall</td></tr><tr><td>477</td><td>474</td><td>MTQ</td><td>Martinica</td><td>Martinique</td><td>Martinica</td></tr><tr><td>485</td><td>480</td><td>MUS</td><td>Maurício</td><td>Mauritius</td><td>Mauricio</td></tr><tr><td>488</td><td>478</td><td>MRT</td><td>Mauritânia</td><td>Mauritania</td><td>Mauritania</td></tr><tr><td>489</td><td>898</td><td>ZZZ</td><td>Mayotte</td><td>Mayotte</td><td>Mayotte</td></tr><tr><td>490</td><td>581</td><td>UMI</td><td>Midway, Ilhas</td><td>Midway, Islands</td><td>Midways, Islas</td></tr><tr><td>493</td><td>484</td><td>MEX</td><td>México</td><td>Mexico</td><td>México</td></tr><tr><td>494</td><td>498</td><td>MDA</td><td>Moldávia</td><td>Moldova</td><td>Moldova, República de</td></tr><tr><td>495</td><td>492</td><td>MCO</td><td>Mônaco</td><td>Monaco</td><td>Mónaco</td></tr><tr><td>497</td><td>496</td><td>MNG</td><td>Mongólia</td><td>Mongolia</td><td>Mongolia</td></tr><tr><td>498</td><td>499</td><td>MNE</td><td>Montenegro</td><td>Montenegro</td><td>Montenegro</td></tr><tr><td>499</td><td>583</td><td>FSM</td><td>Micronésia</td><td>Micronesia</td><td>Micronesia</td></tr><tr><td>501</td><td>500</td><td>MSR</td><td>Montserrat</td><td>Montserrat</td><td>Montserrat</td></tr><tr><td>505</td><td>508</td><td>MOZ</td><td>Moçambique</td><td>Mozambique</td><td>Mozambique</td></tr><tr><td>507</td><td>516</td><td>NAM</td><td>Namíbia</td><td>Namibia</td><td>Namibia</td></tr><tr><td>508</td><td>520</td><td>NRU</td><td>Nauru</td><td>Nauru</td><td>Nauru</td></tr><tr><td>511</td><td>162</td><td>CXR</td><td>Christmas (Navidad), Ilha</td><td>Christmas Island</td><td>Navidad (Christmas), Isla</td></tr><tr><td>517</td><td>524</td><td>NPL</td><td>Nepal</td><td>Nepal</td><td>Nepal</td></tr><tr><td>521</td><td>558</td><td>NIC</td><td>Nicarágua</td><td>Nicaragua</td><td>Nicaragua</td></tr><tr><td>525</td><td>562</td><td>NER</td><td>Níger</td><td>Niger</td><td>Níger</td></tr><tr><td>528</td><td>566</td><td>NGA</td><td>Nigéria</td><td>Nigeria</td><td>Nigeria</td></tr><tr><td>531</td><td>570</td><td>NIU</td><td>Niue</td><td>Niue</td><td>Niue</td></tr><tr><td>535</td><td>574</td><td>NFK</td><td>Norfolk, Ilha</td><td>Norfolk Island</td><td>Norfolk, Islas</td></tr><tr><td>538</td><td>578</td><td>NOR</td><td>Noruega</td><td>Norway</td><td>Noruega</td></tr><tr><td>542</td><td>540</td><td>NCL</td><td>Nova Caledônia</td><td>New Caledonia</td><td>Nueva Caledonia</td></tr><tr><td>545</td><td>598</td><td>PNG</td><td>Papua Nova Guiné</td><td>Papua New Guinea</td><td>Papua Nueva Guinea</td></tr><tr><td>548</td><td>554</td><td>NZL</td><td>Nova Zelândia</td><td>New Zealand</td><td>Nueva Zelanda</td></tr><tr><td>551</td><td>548</td><td>VUT</td><td>Vanuatu</td><td>Vanuatu</td><td>Vanuatu</td></tr><tr><td>556</td><td>512</td><td>OMN</td><td>Omã</td><td>Oman</td><td>Omán</td></tr><tr><td>563</td><td>581</td><td>UMI</td><td>Pacífico, Ilhas do (Administração dos EUA)</td><td>Pacific, Islands of (U.S. Administration)</td><td>Pacífico, las Islas (EE.UU administración)</td></tr><tr><td>566</td><td>581</td><td>UMI</td><td>Pacífico, Ilhas do (EUA)</td><td>Pacific Islands (USA)</td><td>Pacífico, Islas del (Estados Unidos)</td></tr><tr><td>569</td><td>581</td><td>UMI</td><td>Pacífico, Ilhas do (Território Fideicomisso EUA)</td><td>Pacifics, Islands of (U.S. trust territory)</td><td>Pacífico, las islas (EE.UU. TERRITORIO EN FIDEICOMISO</td></tr><tr><td>573</td><td>528</td><td>NLD</td><td>Países Baixos (Holanda)</td><td>Netherlands</td><td>Países Bajos</td></tr><tr><td>575</td><td>585</td><td>PLW</td><td>Palau</td><td>Palau</td><td>Palau</td></tr><tr><td>576</td><td>586</td><td>PAK</td><td>Paquistão</td><td>Pakistan</td><td>Pakistán</td></tr><tr><td>578</td><td>275</td><td>PSE</td><td>Palestina</td><td>Palestine</td><td>Palestina</td></tr><tr><td>580</td><td>591</td><td>PAN</td><td>Panamá</td><td>Panama</td><td>Panamá</td></tr><tr><td>583</td><td>598</td><td>PNG</td><td>Papua, Território de</td><td>Papua territory</td><td>Territorio de Papua</td></tr><tr><td>586</td><td>600</td><td>PRY</td><td>Paraguai</td><td>Paraguay</td><td>Paraguay</td></tr><tr><td>589</td><td>604</td><td>PER</td><td>Peru</td><td>Peru</td><td>Perú</td></tr><tr><td>593</td><td>612</td><td>PCN</td><td>Pitcairn</td><td>Pitcairn</td><td>Pitcairn</td></tr><tr><td>599</td><td>258</td><td>PYF</td><td>Polinésia Francesa</td><td>French Polynesia</td><td>Polinesia Francesa</td></tr><tr><td>603</td><td>616</td><td>POL</td><td>Polônia</td><td>Poland</td><td>Polonia</td></tr><tr><td>607</td><td>620</td><td>PRT</td><td>Portugal</td><td>Portugal</td><td>Portugal</td></tr><tr><td>611</td><td>630</td><td>PRI</td><td>Porto Rico</td><td>Puerto Rico</td><td>Puerto Rico</td></tr><tr><td>623</td><td>404</td><td>KEN</td><td>Quênia</td><td>Kenya</td><td>Kenya</td></tr><tr><td>625</td><td>417</td><td>KGZ</td><td>Quirguistão</td><td>Kyrgyzstan</td><td>Kirguistán</td></tr><tr><td>628</td><td>826</td><td>GBR</td><td>Reino Unido</td><td>United Kingdom</td><td>Reino Unido</td></tr><tr><td>640</td><td>140</td><td>CAF</td><td>República Centro-Africana</td><td>Central African Republic</td><td>República Centroafricana</td></tr><tr><td>647</td><td>214</td><td>DOM</td><td>República Dominicana</td><td>Dominican Republic</td><td>República Dominicana</td></tr><tr><td>660</td><td>638</td><td>REU</td><td>Reunião</td><td>Reunion</td><td>Reunión</td></tr><tr><td>665</td><td>716</td><td>ZWE</td><td>Zimbábue</td><td>Zimbabwe</td><td>Zimbabwe</td></tr><tr><td>670</td><td>642</td><td>ROU</td><td>Romênia</td><td>Romania</td><td>Rumania</td></tr><tr><td>675</td><td>646</td><td>RWA</td><td>Ruanda</td><td>Rwanda</td><td>Ruanda</td></tr><tr><td>676</td><td>643</td><td>RUS</td><td>Rússia</td><td>Russia</td><td>Rusia</td></tr><tr><td>677</td><td>90</td><td>SLB</td><td>Salomão, Ilhas</td><td>Solomon Islands</td><td>Salomón, Islas</td></tr><tr><td>678</td><td>659</td><td>KNA</td><td>Saint Kitts e Nevis</td><td>St. Kitts and Nevis</td><td>St. Kitts y Nevis</td></tr><tr><td>685</td><td>732</td><td>ESH</td><td>Saara Ocidental</td><td>Western Sahara</td><td>Sahara Occidental</td></tr><tr><td>687</td><td>222</td><td>SLV</td><td>El Salvador</td><td>El Salvador</td><td>El Salvador</td></tr><tr><td>690</td><td>882</td><td>WSM</td><td>Samoa</td><td>Samoa</td><td>Samoa</td></tr><tr><td>691</td><td>16</td><td>ASM</td><td>Samoa Americana</td><td>Americana Samoa</td><td>Samoa Americana</td></tr><tr><td>693</td><td>652</td><td>BLM</td><td>São Bartolomeu</td><td>Saint Barthelemy</td><td>San Bartolomé</td></tr><tr><td>695</td><td>659</td><td>KNA</td><td>São Cristóvão e Névis</td><td>Saint Christopher and Nevis</td><td>Saint Kitts y Nevis</td></tr><tr><td>697</td><td>674</td><td>SMR</td><td>San Marino</td><td>San Marino</td><td>San Marino</td></tr><tr><td>698</td><td>898</td><td>ZZZ</td><td>São Martinho, Ilha de (parte francesa)</td><td>São Martinho, Ilha de (parte francesa)</td><td>São Martinho, Ilha de (parte francesa)</td></tr><tr><td>699</td><td>534</td><td>SXM</td><td>Sint Maarten</td><td>Sint Maarten</td><td>Sint Maarten</td></tr><tr><td>700</td><td>666</td><td>SPM</td><td>São Pedro e Miquelon</td><td>Saint Pierre and Miquelon</td><td>Saint Pierre y Miquelon</td></tr><tr><td>705</td><td>670</td><td>VCT</td><td>São Vicente e Granadinas</td><td>Saint Vicent and the Granadines</td><td>San Vicente y las Granadinas</td></tr><tr><td>710</td><td>654</td><td>SHN</td><td>Santa Helena</td><td>Saint Helena</td><td>Santa Helena, Ascención y Tristán de Acuña</td></tr><tr><td>715</td><td>662</td><td>LCA</td><td>Santa Lúcia</td><td>Saint Lucia</td><td>Santa Lucia</td></tr><tr><td>720</td><td>678</td><td>STP</td><td>São Tomé e Príncipe</td><td>São Tome and Principe</td><td>Santo Tomé y Príncipe</td></tr><tr><td>728</td><td>686</td><td>SEN</td><td>Senegal</td><td>Senegal</td><td>Senegal</td></tr><tr><td>731</td><td>690</td><td>SYC</td><td>Seicheles</td><td>Seychelles</td><td>Seychelles</td></tr><tr><td>735</td><td>694</td><td>SLE</td><td>Serra Leoa</td><td>Sierra Leone</td><td>Sierra Leona</td></tr><tr><td>737</td><td>688</td><td>SRB</td><td>Sérvia</td><td>Serbia</td><td>Serbia</td></tr><tr><td>741</td><td>702</td><td>SGP</td><td>Singapura</td><td>Singapore</td><td>Singapur</td></tr><tr><td>744</td><td>760</td><td>SYR</td><td>Síria</td><td>Syria</td><td>Siria</td></tr><tr><td>748</td><td>706</td><td>SOM</td><td>Somália</td><td>Somalia</td><td>Somalia</td></tr><tr><td>750</td><td>144</td><td>LKA</td><td>Sri Lanka</td><td>Sri Lanka</td><td>Sri Lanka</td></tr><tr><td>754</td><td>748</td><td>SWZ</td><td>Suazilândia</td><td>Swaziland</td><td>Swazilandia</td></tr><tr><td>755</td><td>744</td><td>SJM</td><td>Svalbard e Jan Mayen</td><td>Svalbard and Jan Mayen</td><td>Svalbard y Jan Mayen</td></tr><tr><td>756</td><td>710</td><td>ZAF</td><td>África do Sul</td><td>South Africa</td><td>Sudáfrica</td></tr><tr><td>759</td><td>736</td><td>SDN</td><td>Sudão</td><td>Sudan</td><td>Sudán</td></tr><tr><td>760</td><td>728</td><td>SSD</td><td>Sudão do Sul</td><td>South Sudan</td><td>Sudán del Sur</td></tr><tr><td>764</td><td>752</td><td>SWE</td><td>Suécia</td><td>Sweden</td><td>Suecia</td></tr><tr><td>767</td><td>756</td><td>CHE</td><td>Suíça</td><td>Switzerland</td><td>Suiza</td></tr><tr><td>770</td><td>740</td><td>SUR</td><td>Suriname</td><td>Suriname</td><td>Suriname</td></tr><tr><td>772</td><td>762</td><td>TJK</td><td>Tadjiquistão</td><td>Tajikistan</td><td>Tayikistán</td></tr><tr><td>776</td><td>764</td><td>THA</td><td>Tailândia</td><td>Thailand</td><td>Tailandia</td></tr><tr><td>780</td><td>834</td><td>TZA</td><td>Tanzânia</td><td>Tanzania</td><td>Tanzanía</td></tr><tr><td>781</td><td>898</td><td>ATF</td><td>Terras Austrais Francesas</td><td>French Southern Lands</td><td>Tierras Australes Francesas</td></tr><tr><td>782</td><td>86</td><td>IOT</td><td>Território Britânico do Oceano Índico</td><td>British Indian Ocean Territory</td><td>Territorio Británico del Océano Indico</td></tr><tr><td>783</td><td>262</td><td>DJI</td><td>Djibuti</td><td>Djibouti</td><td>Djibouti</td></tr><tr><td>785</td><td>898</td><td>ZZZ</td><td>Território da Alta Comissão do Pacífico Ocidental</td><td>Territory of the High Commissioner of the Western Pacif</td><td>Territorio del Alto Comisionado del Pacífico Occidental</td></tr><tr><td>786</td><td>826</td><td>GBR</td><td>Território Antártico Britânico</td><td>British Antarctic Territory</td><td>Territorio Antártico Británico</td></tr><tr><td>788</td><td>148</td><td>TCD</td><td>Chade</td><td>Chad</td><td>Chad</td></tr><tr><td>790</td><td>200</td><td>CSK</td><td>Tchecoslováquia</td><td>Czechoslovakia</td><td>Checoslovaquia</td></tr><tr><td>791</td><td>203</td><td>CZE</td><td>Tcheca, República</td><td>Czech Republic</td><td>República Checa</td></tr><tr><td>795</td><td>626</td><td>TLS</td><td>Timor Leste</td><td>East Timor</td><td>Timor Leste</td></tr><tr><td>800</td><td>768</td><td>TGO</td><td>Togo</td><td>Togo</td><td>Togo</td></tr><tr><td>805</td><td>772</td><td>TKL</td><td>Toquelau</td><td>Tokelau</td><td>Tokelau</td></tr><tr><td>810</td><td>776</td><td>TON</td><td>Tonga</td><td>Tonga</td><td>Tonga</td></tr><tr><td>815</td><td>780</td><td>TTO</td><td>Trinidad e Tobago</td><td>Trinidad and Tobago</td><td>Trinidad y Tobago</td></tr><tr><td>820</td><td>788</td><td>TUN</td><td>Tunísia</td><td>Tunisia</td><td>Túnez</td></tr><tr><td>823</td><td>796</td><td>TCA</td><td>Turcas e Caicos, Ilhas</td><td>Turks and Caicos, Islands</td><td>Turcas y Caicos, Islas</td></tr><tr><td>824</td><td>795</td><td>TKM</td><td>Turcomenistão</td><td>Turkmenistan</td><td>Turkmenistán</td></tr><tr><td>827</td><td>792</td><td>TUR</td><td>Turquia</td><td>Turkey</td><td>Turquía</td></tr><tr><td>828</td><td>798</td><td>TUV</td><td>Tuvalu</td><td>Tuvalu</td><td>Tuvalu</td></tr><tr><td>831</td><td>804</td><td>UKR</td><td>Ucrânia</td><td>Ukraine</td><td>Ucrania</td></tr><tr><td>833</td><td>800</td><td>UGA</td><td>Uganda</td><td>Uganda</td><td>Uganda</td></tr><tr><td>840</td><td>898</td><td>ZZZ</td><td>União das Repúblicas Socialistas Soviéticas</td><td>Union of Soviet Socialist Republics</td><td>Unión de Repúblicas Socialistas Soviéticas</td></tr><tr><td>845</td><td>858</td><td>URY</td><td>Uruguai</td><td>Uruguay</td><td>Uruguay</td></tr><tr><td>847</td><td>860</td><td>UZB</td><td>Uzbequistão</td><td>Uzbekistan</td><td>Uzbekistán</td></tr><tr><td>848</td><td>336</td><td>VAT</td><td>Vaticano</td><td>Vatican City</td><td>Santa Sede (Vaticano)</td></tr><tr><td>850</td><td>862</td><td>VEN</td><td>Venezuela</td><td>Venezuela</td><td>Venezuela</td></tr><tr><td>858</td><td>704</td><td>VNM</td><td>Vietnã</td><td>Vietnam</td><td>Viet Nam</td></tr><tr><td>863</td><td>92</td><td>VGB</td><td>Virgens, Ilhas (Britânicas)</td><td>Virgin Islands (UK)</td><td>Vírgenes Británicas, Islas</td></tr><tr><td>866</td><td>850</td><td>VIR</td><td>Virgens, Ilhas (Americanas)</td><td>Virgin Islands (USA)</td><td>Vírgenes de los Estados Unidos, Islas</td></tr><tr><td>870</td><td>242</td><td>FJI</td><td>Fiji</td><td>Fiji</td><td>Fiji</td></tr><tr><td>873</td><td>840</td><td>USA</td><td>Wake, Ilha</td><td>Wake Island</td><td>Isla Wake</td></tr><tr><td>875</td><td>876</td><td>WLF</td><td>Wallis e Futuna, Ilhas</td><td>Wallis and Futuna</td><td>Wallis y Futuna</td></tr><tr><td>888</td><td>180</td><td>COD</td><td>Congo, República Democrática</td><td>Democratic Republic of the Congo</td><td>República Democrática del Congo</td></tr><tr><td>890</td><td>894</td><td>ZMB</td><td>Zâmbia</td><td>Zambia</td><td>Zambia</td></tr><tr><td>895</td><td>592</td><td>PCZ</td><td>Zona do Canal do Panamá</td><td>Panama Canal Zone</td><td>Zona del Canal de Panamá</td></tr><tr><td>990</td><td>898</td><td>ZZZ</td><td>Provisão de Navios e Aeronaves</td><td>Planes and ships provisions</td><td>Disposiciones para buques y aviones</td></tr><tr><td>994</td><td>898</td><td>ZZZ</td><td>A Designar</td><td>To define</td><td>A designar</td></tr><tr><td>995</td><td>898</td><td>ZZZ</td><td>Bancos Centrais</td><td>Central Banks</td><td>Bancos Centrales</td></tr><tr><td>997</td><td>898</td><td>ZZZ</td><td>Organizações Internacionais</td><td>International Organizations</td><td>Organizaciones Internacionales</td></tr><tr><td>998</td><td>898</td><td>ZZZ</td><td>Sem informação</td><td>Sem informação</td><td>Sem informação</td></tr><tr><td>999</td><td>898</td><td>ZZZ</td><td>Não Declarados</td><td>Not declared</td><td>No declarados</td></tr></tbody></table></div>"
      ]
     },
     "metadata": {
      "application/vnd.databricks.v1+output": {
       "addedWidgets": {},
       "aggData": [],
       "aggError": "",
       "aggOverflow": false,
       "aggSchema": [],
       "aggSeriesLimitReached": false,
       "aggType": "",
       "arguments": {},
       "columnCustomDisplayInfos": {},
       "data": [
        [
         0,
         898,
         "ZZZ",
         "Não Definido",
         "Not defined",
         "No definido"
        ],
        [
         13,
         4,
         "AFG",
         "Afeganistão",
         "Afghanistan",
         "Afganistan"
        ],
        [
         15,
         248,
         "ALA",
         "Aland, Ilhas",
         "Aland Islands",
         "Alans, Islas"
        ],
        [
         17,
         8,
         "ALB",
         "Albânia",
         "Albania",
         "Albania"
        ],
        [
         20,
         724,
         "ESP",
         "Alboran-Perejil, Ilhas",
         "Alboran-Perejil, Islands",
         "Alboran-Perejil, Islas"
        ],
        [
         23,
         276,
         "DEU",
         "Alemanha",
         "Germany",
         "Alemania"
        ],
        [
         25,
         278,
         "DEU",
         "Alemanha Oriental",
         "East Germany",
         "Alemania del Este"
        ],
        [
         31,
         854,
         "BFA",
         "Burkina Faso",
         "Burkina Faso",
         "Burkina Faso"
        ],
        [
         37,
         20,
         "AND",
         "Andorra",
         "Andorra",
         "Andorra"
        ],
        [
         40,
         24,
         "AGO",
         "Angola",
         "Angola",
         "Angola"
        ],
        [
         41,
         660,
         "AIA",
         "Anguilla",
         "Anguilla",
         "Anguilla"
        ],
        [
         42,
         10,
         "ATA",
         "Antártica",
         "Antarctica",
         "Antártida"
        ],
        [
         43,
         28,
         "ATG",
         "Antígua e Barbuda",
         "Antigua and Barbuda",
         "Antigua y Barbuda"
        ],
        [
         47,
         530,
         "ANT",
         "Antilhas Holandesas",
         "Netherlands Antilles",
         "Antillas Holandesas"
        ],
        [
         53,
         682,
         "SAU",
         "Arábia Saudita",
         "Saudi Arabia",
         "Arabia Saudita"
        ],
        [
         59,
         12,
         "DZA",
         "Argélia",
         "Algeria",
         "Argelia"
        ],
        [
         63,
         32,
         "ARG",
         "Argentina",
         "Argentina",
         "Argentina"
        ],
        [
         64,
         51,
         "ARM",
         "Armênia",
         "Armenia",
         "Armenia"
        ],
        [
         65,
         533,
         "ABW",
         "Aruba",
         "Aruba",
         "Aruba"
        ],
        [
         69,
         36,
         "AUS",
         "Austrália",
         "Australia",
         "Australia"
        ],
        [
         72,
         40,
         "AUT",
         "Áustria",
         "Austria",
         "Austria"
        ],
        [
         73,
         31,
         "AZE",
         "Azerbaijão",
         "Azerbaijan",
         "Acerbaiyan"
        ],
        [
         77,
         44,
         "BHS",
         "Bahamas",
         "Bahamas",
         "Bahamas"
        ],
        [
         80,
         48,
         "BHR",
         "Barein",
         "Bahrein",
         "Bahrein"
        ],
        [
         81,
         50,
         "BGD",
         "Bangladesh",
         "Bangladesh",
         "Bangladesh"
        ],
        [
         83,
         52,
         "BRB",
         "Barbados",
         "Barbados",
         "Barbados"
        ],
        [
         85,
         112,
         "BLR",
         "Belarus",
         "Belarus",
         "Belarús"
        ],
        [
         87,
         56,
         "BEL",
         "Bélgica",
         "Belgium",
         "Bélgica"
        ],
        [
         88,
         84,
         "BLZ",
         "Belize",
         "Belize",
         "Belice"
        ],
        [
         90,
         60,
         "BMU",
         "Bermudas",
         "Bermuda",
         "Bermuda"
        ],
        [
         93,
         104,
         "MMR",
         "Mianmar",
         "Myanmar",
         "Myanmar"
        ],
        [
         97,
         68,
         "BOL",
         "Bolívia",
         "Bolivia",
         "Bolivia"
        ],
        [
         98,
         70,
         "BIH",
         "Bósnia-Herzegovina",
         "Bosnia and Herzegovina",
         "Bosnia y Herzegovina"
        ],
        [
         99,
         535,
         "BES",
         "Bonaire, Saint Eustatius e Saba",
         "Bonaire, Saint Eustatius and Saba",
         "Bonaire, Saint Eustatius y Saba"
        ],
        [
         100,
         898,
         "BRA",
         "Internação na Zona Franca de Manaus",
         "Internment in the Manaus Free Trade Zone",
         "Internamiento de la Zona Franca de Manaus"
        ],
        [
         101,
         72,
         "BWA",
         "Botsuana",
         "Botswana",
         "Botswana"
        ],
        [
         102,
         74,
         "BVT",
         "Bouvet, Ilha",
         "Bouvet Island",
         "Bouvet, Isla"
        ],
        [
         105,
         76,
         "BRA",
         "Brasil",
         "Brazil",
         "Brasil"
        ],
        [
         108,
         96,
         "BRN",
         "Brunei",
         "Brunei",
         "Brunei"
        ],
        [
         111,
         100,
         "BGR",
         "Bulgária",
         "Bulgaria",
         "Bulgaria"
        ],
        [
         115,
         108,
         "BDI",
         "Burundi",
         "Burundi",
         "Burundi"
        ],
        [
         119,
         64,
         "BTN",
         "Butão",
         "Bhutan",
         "Bhután"
        ],
        [
         127,
         132,
         "CPV",
         "Cabo Verde",
         "Cape Verde",
         "Cabo Verde"
        ],
        [
         137,
         136,
         "CYM",
         "Cayman, Ilhas",
         "Cayman Islands",
         "Caimán, Islas"
        ],
        [
         141,
         116,
         "KHM",
         "Camboja",
         "Cambodia",
         "Camboya"
        ],
        [
         145,
         120,
         "CMR",
         "Camarões",
         "Cameroon",
         "Camerún"
        ],
        [
         149,
         124,
         "CAN",
         "Canadá",
         "Canada",
         "Canadá"
        ],
        [
         150,
         831,
         "GGY",
         "Canal, Ilhas do (Guernsey)",
         "Guernsey",
         "Guernsey"
        ],
        [
         151,
         724,
         "ESP",
         "Canárias, Ilhas",
         "Canary, Islands",
         "Canarias, Islas"
        ],
        [
         152,
         826,
         "GBR",
         "Canal, Ilhas do (Jersey)",
         "Jersey",
         "Jersey"
        ],
        [
         153,
         398,
         "KAZ",
         "Cazaquistão",
         "Kazakhstan",
         "Kazakhstán"
        ],
        [
         154,
         634,
         "QAT",
         "Catar",
         "Qatar",
         "Qatar"
        ],
        [
         158,
         152,
         "CHL",
         "Chile",
         "Chile",
         "Chile"
        ],
        [
         160,
         156,
         "CHN",
         "China",
         "China",
         "China"
        ],
        [
         161,
         158,
         "TWN",
         "Taiwan (Formosa)",
         "Taiwan",
         "Taiwán"
        ],
        [
         163,
         196,
         "CYP",
         "Chipre",
         "Cyprus",
         "Chipre"
        ],
        [
         165,
         166,
         "CCK",
         "Cocos (Keeling), Ilhas",
         "Cocos (Keeling) Islands",
         "Cocos (Keeling), Islas"
        ],
        [
         169,
         170,
         "COL",
         "Colômbia",
         "Colombia",
         "Colombia"
        ],
        [
         173,
         174,
         "COM",
         "Comores",
         "Comoros",
         "Comoras"
        ],
        [
         177,
         178,
         "COG",
         "Congo",
         "Congo",
         "Congo"
        ],
        [
         183,
         184,
         "COK",
         "Cook, Ilhas",
         "Cook Islands",
         "Cook, Islas"
        ],
        [
         187,
         408,
         "PRK",
         "Coreia do Norte",
         "North Korea",
         "Corea (Norte)"
        ],
        [
         190,
         410,
         "KOR",
         "Coreia do Sul",
         "South Korea",
         "Corea (Sur)"
        ],
        [
         193,
         384,
         "CIV",
         "Costa do Marfim",
         "Cote D'Ivore",
         "Costa de Marfil"
        ],
        [
         195,
         191,
         "HRV",
         "Croácia",
         "Croatia",
         "Croacia"
        ],
        [
         196,
         188,
         "CRI",
         "Costa Rica",
         "Costa Rica",
         "Costa Rica"
        ],
        [
         198,
         414,
         "KWT",
         "Coveite (Kuweit)",
         "Kuwait",
         "Kuwait"
        ],
        [
         199,
         192,
         "CUB",
         "Cuba",
         "Cuba",
         "Cuba"
        ],
        [
         200,
         531,
         "CUW",
         "Curaçao",
         "Curaçao",
         "Curazao"
        ],
        [
         229,
         204,
         "BEN",
         "Benin",
         "Benin",
         "Benin"
        ],
        [
         232,
         208,
         "DNK",
         "Dinamarca",
         "Denmark",
         "Dinamarca"
        ],
        [
         235,
         212,
         "DMA",
         "Dominica",
         "Dominica Island",
         "Dominica"
        ],
        [
         237,
         784,
         "ARE",
         "Dubai",
         "Dubai",
         "Dubai"
        ],
        [
         239,
         218,
         "ECU",
         "Equador",
         "Ecuador",
         "Ecuador"
        ],
        [
         240,
         818,
         "EGY",
         "Egito",
         "Egypt",
         "Egipto"
        ],
        [
         243,
         232,
         "ERI",
         "Eritreia",
         "Eritrea",
         "Eritrea"
        ],
        [
         244,
         784,
         "ARE",
         "Emirados Árabes Unidos",
         "United Arab Emirates",
         "Emiratos Árabes Unidos"
        ],
        [
         245,
         724,
         "ESP",
         "Espanha",
         "Spain",
         "España"
        ],
        [
         246,
         705,
         "SVN",
         "Eslovênia",
         "Slovenia",
         "Eslovenia"
        ],
        [
         247,
         703,
         "SVK",
         "Eslováquia",
         "Slovakia",
         "Eslovaquia"
        ],
        [
         249,
         840,
         "USA",
         "Estados Unidos",
         "United States",
         "Estados Unidos"
        ],
        [
         251,
         233,
         "EST",
         "Estônia",
         "Estonia",
         "Estonia"
        ],
        [
         253,
         231,
         "ETH",
         "Etiópia",
         "Ethiopia",
         "Etiopía"
        ],
        [
         255,
         238,
         "FLK",
         "Falkland (Malvinas)",
         "Falkland Islands (Malvinas)",
         "Malvinas (Falkland), Islas"
        ],
        [
         259,
         234,
         "FRO",
         "Faroe, Ilhas",
         "Faroe Islands",
         "Feroé, Islas"
        ],
        [
         267,
         608,
         "PHL",
         "Filipinas",
         "Philippines",
         "Filipinas"
        ],
        [
         271,
         246,
         "FIN",
         "Finlândia",
         "Finland",
         "Finlandia"
        ],
        [
         275,
         250,
         "FRA",
         "França",
         "France",
         "Francia"
        ],
        [
         281,
         266,
         "GAB",
         "Gabão",
         "Gabon",
         "Gabón"
        ],
        [
         285,
         270,
         "GMB",
         "Gâmbia",
         "Gambia",
         "Gambia"
        ],
        [
         289,
         288,
         "GHA",
         "Gana",
         "Ghana",
         "Ghana"
        ],
        [
         291,
         268,
         "GEO",
         "Geórgia",
         "Georgia",
         "Georgia"
        ],
        [
         292,
         239,
         "SGS",
         "Geórgia do Sul e Sandwich do Sul, Ilhas",
         "South Georgia and the South Sandwich Islands",
         "Islas Georgias del Sur y Sandwich del Sur"
        ],
        [
         293,
         292,
         "GIB",
         "Gibraltar",
         "Gibraltar",
         "Gibraltar"
        ],
        [
         297,
         308,
         "GRD",
         "Granada",
         "Grenada",
         "Granada"
        ],
        [
         301,
         300,
         "GRC",
         "Grécia",
         "Greece",
         "Grecia"
        ],
        [
         305,
         304,
         "GRL",
         "Groenlândia",
         "Greenland",
         "Groenlandia"
        ],
        [
         309,
         312,
         "GLP",
         "Guadalupe",
         "Guadeloupe",
         "Guadalupe"
        ],
        [
         313,
         316,
         "GUM",
         "Guam",
         "Guam",
         "Guam"
        ],
        [
         317,
         320,
         "GTM",
         "Guatemala",
         "Guatemala",
         "Guatemala"
        ],
        [
         321,
         898,
         "GGY",
         "Guernsey",
         "Guernsey",
         "Guernsey"
        ],
        [
         325,
         254,
         "GUF",
         "Guiana Francesa",
         "French Guyana",
         "Guyana Francesa"
        ],
        [
         329,
         324,
         "GIN",
         "Guiné",
         "Guinea",
         "Guinea"
        ],
        [
         331,
         226,
         "GNQ",
         "Guiné Equatorial",
         "Equatorial Guinea",
         "Guinea Ecuatorial"
        ],
        [
         334,
         624,
         "GNB",
         "Guiné-Bissau",
         "Guinea-Bissau",
         "Guinea-Bissau"
        ],
        [
         337,
         328,
         "GUY",
         "Guiana",
         "Guyana",
         "Guyana"
        ],
        [
         341,
         332,
         "HTI",
         "Haiti",
         "Haiti",
         "Haiti"
        ],
        [
         343,
         334,
         "HMD",
         "Heard e ilhas mcdonald, Ilha",
         "\n",
         null
        ],
        [
         null,
         null,
         null,
         null,
         null,
         null
        ],
        [
         345,
         340,
         "HND",
         "Honduras",
         "Honduras",
         "Honduras"
        ],
        [
         351,
         344,
         "HKG",
         "Hong Kong",
         "Hong Kong",
         "Hong Kong"
        ],
        [
         355,
         348,
         "HUN",
         "Hungria",
         "Hungary",
         "Hungría"
        ],
        [
         357,
         887,
         "YEM",
         "Iêmen",
         "Yemen",
         "Yemen"
        ],
        [
         358,
         720,
         "YMD",
         "Iêmen Democrático",
         "Democratic Yemen",
         "Yemen Democrático"
        ],
        [
         359,
         833,
         "IMN",
         "Ilha de Man",
         "Isle of Man",
         "Isla de Man"
        ],
        [
         361,
         356,
         "IND",
         "Índia",
         "India",
         "India"
        ],
        [
         365,
         360,
         "IDN",
         "Indonésia",
         "Indonesia",
         "Indonesia"
        ],
        [
         367,
         826,
         "GBR",
         "Inglaterra",
         "England",
         "Inglaterra"
        ],
        [
         369,
         368,
         "IRQ",
         "Iraque",
         "Iraq",
         "Irak"
        ],
        [
         372,
         364,
         "IRN",
         "Irã",
         "Iran",
         "Irán"
        ],
        [
         375,
         372,
         "IRL",
         "Irlanda",
         "Ireland",
         "Irlanda"
        ],
        [
         379,
         352,
         "ISL",
         "Islândia",
         "Iceland",
         "Islandia"
        ],
        [
         383,
         376,
         "ISR",
         "Israel",
         "Israel",
         "Israel"
        ],
        [
         386,
         380,
         "ITA",
         "Itália",
         "Italy",
         "Italia"
        ],
        [
         388,
         891,
         "SCG",
         "Iugoslávia",
         "Yugoslavia",
         "Yugoslavia"
        ],
        [
         391,
         388,
         "JAM",
         "Jamaica",
         "Jamaica",
         "Jamaica"
        ],
        [
         393,
         898,
         "ZZZ",
         "Jersey",
         "Jersey",
         "Jersey"
        ],
        [
         396,
         840,
         "USA",
         "Johnston, Ilhas",
         "Johnston (Island)",
         "Johnston (Isla)"
        ],
        [
         399,
         392,
         "JPN",
         "Japão",
         "Japan",
         "Japón"
        ],
        [
         403,
         400,
         "JOR",
         "Jordânia",
         "Jordan",
         "Jordania"
        ],
        [
         411,
         296,
         "KIR",
         "Kiribati",
         "Kiribati",
         "Kiribati"
        ],
        [
         420,
         418,
         "LAO",
         "Laos",
         "Laos",
         "Laos"
        ],
        [
         423,
         458,
         "MYS",
         "Lebuan, Ilhas",
         "Lebuan",
         "Lebuan"
        ],
        [
         426,
         426,
         "LSO",
         "Lesoto",
         "Lesotho",
         "Lesotho"
        ],
        [
         427,
         428,
         "LVA",
         "Letônia",
         "Latvia",
         "Letonia"
        ],
        [
         431,
         422,
         "LBN",
         "Líbano",
         "Lebanon",
         "Líbano"
        ],
        [
         434,
         430,
         "LBR",
         "Libéria",
         "Liberia",
         "Liberia"
        ],
        [
         438,
         434,
         "LBY",
         "Líbia",
         "Libya",
         "Libia"
        ],
        [
         440,
         438,
         "LIE",
         "Liechtenstein",
         "Liechtenstein",
         "Liechtenstein"
        ],
        [
         442,
         440,
         "LTU",
         "Lituânia",
         "Lithuania",
         "Lituania"
        ],
        [
         445,
         442,
         "LUX",
         "Luxemburgo",
         "Luxembourg",
         "Luxemburgo"
        ],
        [
         447,
         446,
         "MAC",
         "Macau",
         "Macao",
         "Macao"
        ],
        [
         449,
         807,
         "MKD",
         "Macedônia",
         "Macedonia",
         "Macedonia"
        ],
        [
         450,
         450,
         "MDG",
         "Madagascar",
         "Madagascar",
         "Madagascar"
        ],
        [
         452,
         620,
         "PRT",
         "Madeira, Ilha da",
         "Madeira",
         "Madeira"
        ],
        [
         455,
         458,
         "MYS",
         "Malásia",
         "Malaysia",
         "Malasia"
        ],
        [
         458,
         454,
         "MWI",
         "Malavi",
         "Malawi",
         "Malawi"
        ],
        [
         461,
         462,
         "MDV",
         "Maldivas",
         "Maldives",
         "Maldivas"
        ],
        [
         464,
         466,
         "MLI",
         "Mali",
         "Mali",
         "Mali"
        ],
        [
         467,
         470,
         "MLT",
         "Malta",
         "Malta",
         "Malta"
        ],
        [
         472,
         580,
         "MNP",
         "Marianas do Norte, Ilhas",
         "Northern Marianas",
         "Marianas Septentrionales, Islas"
        ],
        [
         474,
         504,
         "MAR",
         "Marrocos",
         "Morocco",
         "Marruecos"
        ],
        [
         476,
         584,
         "MHL",
         "Marshall, Ilhas",
         "Marshall Islands",
         "Islas Marshall"
        ],
        [
         477,
         474,
         "MTQ",
         "Martinica",
         "Martinique",
         "Martinica"
        ],
        [
         485,
         480,
         "MUS",
         "Maurício",
         "Mauritius",
         "Mauricio"
        ],
        [
         488,
         478,
         "MRT",
         "Mauritânia",
         "Mauritania",
         "Mauritania"
        ],
        [
         489,
         898,
         "ZZZ",
         "Mayotte",
         "Mayotte",
         "Mayotte"
        ],
        [
         490,
         581,
         "UMI",
         "Midway, Ilhas",
         "Midway, Islands",
         "Midways, Islas"
        ],
        [
         493,
         484,
         "MEX",
         "México",
         "Mexico",
         "México"
        ],
        [
         494,
         498,
         "MDA",
         "Moldávia",
         "Moldova",
         "Moldova, República de"
        ],
        [
         495,
         492,
         "MCO",
         "Mônaco",
         "Monaco",
         "Mónaco"
        ],
        [
         497,
         496,
         "MNG",
         "Mongólia",
         "Mongolia",
         "Mongolia"
        ],
        [
         498,
         499,
         "MNE",
         "Montenegro",
         "Montenegro",
         "Montenegro"
        ],
        [
         499,
         583,
         "FSM",
         "Micronésia",
         "Micronesia",
         "Micronesia"
        ],
        [
         501,
         500,
         "MSR",
         "Montserrat",
         "Montserrat",
         "Montserrat"
        ],
        [
         505,
         508,
         "MOZ",
         "Moçambique",
         "Mozambique",
         "Mozambique"
        ],
        [
         507,
         516,
         "NAM",
         "Namíbia",
         "Namibia",
         "Namibia"
        ],
        [
         508,
         520,
         "NRU",
         "Nauru",
         "Nauru",
         "Nauru"
        ],
        [
         511,
         162,
         "CXR",
         "Christmas (Navidad), Ilha",
         "Christmas Island",
         "Navidad (Christmas), Isla"
        ],
        [
         517,
         524,
         "NPL",
         "Nepal",
         "Nepal",
         "Nepal"
        ],
        [
         521,
         558,
         "NIC",
         "Nicarágua",
         "Nicaragua",
         "Nicaragua"
        ],
        [
         525,
         562,
         "NER",
         "Níger",
         "Niger",
         "Níger"
        ],
        [
         528,
         566,
         "NGA",
         "Nigéria",
         "Nigeria",
         "Nigeria"
        ],
        [
         531,
         570,
         "NIU",
         "Niue",
         "Niue",
         "Niue"
        ],
        [
         535,
         574,
         "NFK",
         "Norfolk, Ilha",
         "Norfolk Island",
         "Norfolk, Islas"
        ],
        [
         538,
         578,
         "NOR",
         "Noruega",
         "Norway",
         "Noruega"
        ],
        [
         542,
         540,
         "NCL",
         "Nova Caledônia",
         "New Caledonia",
         "Nueva Caledonia"
        ],
        [
         545,
         598,
         "PNG",
         "Papua Nova Guiné",
         "Papua New Guinea",
         "Papua Nueva Guinea"
        ],
        [
         548,
         554,
         "NZL",
         "Nova Zelândia",
         "New Zealand",
         "Nueva Zelanda"
        ],
        [
         551,
         548,
         "VUT",
         "Vanuatu",
         "Vanuatu",
         "Vanuatu"
        ],
        [
         556,
         512,
         "OMN",
         "Omã",
         "Oman",
         "Omán"
        ],
        [
         563,
         581,
         "UMI",
         "Pacífico, Ilhas do (Administração dos EUA)",
         "Pacific, Islands of (U.S. Administration)",
         "Pacífico, las Islas (EE.UU administración)"
        ],
        [
         566,
         581,
         "UMI",
         "Pacífico, Ilhas do (EUA)",
         "Pacific Islands (USA)",
         "Pacífico, Islas del (Estados Unidos)"
        ],
        [
         569,
         581,
         "UMI",
         "Pacífico, Ilhas do (Território Fideicomisso EUA)",
         "Pacifics, Islands of (U.S. trust territory)",
         "Pacífico, las islas (EE.UU. TERRITORIO EN FIDEICOMISO"
        ],
        [
         573,
         528,
         "NLD",
         "Países Baixos (Holanda)",
         "Netherlands",
         "Países Bajos"
        ],
        [
         575,
         585,
         "PLW",
         "Palau",
         "Palau",
         "Palau"
        ],
        [
         576,
         586,
         "PAK",
         "Paquistão",
         "Pakistan",
         "Pakistán"
        ],
        [
         578,
         275,
         "PSE",
         "Palestina",
         "Palestine",
         "Palestina"
        ],
        [
         580,
         591,
         "PAN",
         "Panamá",
         "Panama",
         "Panamá"
        ],
        [
         583,
         598,
         "PNG",
         "Papua, Território de",
         "Papua territory",
         "Territorio de Papua"
        ],
        [
         586,
         600,
         "PRY",
         "Paraguai",
         "Paraguay",
         "Paraguay"
        ],
        [
         589,
         604,
         "PER",
         "Peru",
         "Peru",
         "Perú"
        ],
        [
         593,
         612,
         "PCN",
         "Pitcairn",
         "Pitcairn",
         "Pitcairn"
        ],
        [
         599,
         258,
         "PYF",
         "Polinésia Francesa",
         "French Polynesia",
         "Polinesia Francesa"
        ],
        [
         603,
         616,
         "POL",
         "Polônia",
         "Poland",
         "Polonia"
        ],
        [
         607,
         620,
         "PRT",
         "Portugal",
         "Portugal",
         "Portugal"
        ],
        [
         611,
         630,
         "PRI",
         "Porto Rico",
         "Puerto Rico",
         "Puerto Rico"
        ],
        [
         623,
         404,
         "KEN",
         "Quênia",
         "Kenya",
         "Kenya"
        ],
        [
         625,
         417,
         "KGZ",
         "Quirguistão",
         "Kyrgyzstan",
         "Kirguistán"
        ],
        [
         628,
         826,
         "GBR",
         "Reino Unido",
         "United Kingdom",
         "Reino Unido"
        ],
        [
         640,
         140,
         "CAF",
         "República Centro-Africana",
         "Central African Republic",
         "República Centroafricana"
        ],
        [
         647,
         214,
         "DOM",
         "República Dominicana",
         "Dominican Republic",
         "República Dominicana"
        ],
        [
         660,
         638,
         "REU",
         "Reunião",
         "Reunion",
         "Reunión"
        ],
        [
         665,
         716,
         "ZWE",
         "Zimbábue",
         "Zimbabwe",
         "Zimbabwe"
        ],
        [
         670,
         642,
         "ROU",
         "Romênia",
         "Romania",
         "Rumania"
        ],
        [
         675,
         646,
         "RWA",
         "Ruanda",
         "Rwanda",
         "Ruanda"
        ],
        [
         676,
         643,
         "RUS",
         "Rússia",
         "Russia",
         "Rusia"
        ],
        [
         677,
         90,
         "SLB",
         "Salomão, Ilhas",
         "Solomon Islands",
         "Salomón, Islas"
        ],
        [
         678,
         659,
         "KNA",
         "Saint Kitts e Nevis",
         "St. Kitts and Nevis",
         "St. Kitts y Nevis"
        ],
        [
         685,
         732,
         "ESH",
         "Saara Ocidental",
         "Western Sahara",
         "Sahara Occidental"
        ],
        [
         687,
         222,
         "SLV",
         "El Salvador",
         "El Salvador",
         "El Salvador"
        ],
        [
         690,
         882,
         "WSM",
         "Samoa",
         "Samoa",
         "Samoa"
        ],
        [
         691,
         16,
         "ASM",
         "Samoa Americana",
         "Americana Samoa",
         "Samoa Americana"
        ],
        [
         693,
         652,
         "BLM",
         "São Bartolomeu",
         "Saint Barthelemy",
         "San Bartolomé"
        ],
        [
         695,
         659,
         "KNA",
         "São Cristóvão e Névis",
         "Saint Christopher and Nevis",
         "Saint Kitts y Nevis"
        ],
        [
         697,
         674,
         "SMR",
         "San Marino",
         "San Marino",
         "San Marino"
        ],
        [
         698,
         898,
         "ZZZ",
         "São Martinho, Ilha de (parte francesa)",
         "São Martinho, Ilha de (parte francesa)",
         "São Martinho, Ilha de (parte francesa)"
        ],
        [
         699,
         534,
         "SXM",
         "Sint Maarten",
         "Sint Maarten",
         "Sint Maarten"
        ],
        [
         700,
         666,
         "SPM",
         "São Pedro e Miquelon",
         "Saint Pierre and Miquelon",
         "Saint Pierre y Miquelon"
        ],
        [
         705,
         670,
         "VCT",
         "São Vicente e Granadinas",
         "Saint Vicent and the Granadines",
         "San Vicente y las Granadinas"
        ],
        [
         710,
         654,
         "SHN",
         "Santa Helena",
         "Saint Helena",
         "Santa Helena, Ascención y Tristán de Acuña"
        ],
        [
         715,
         662,
         "LCA",
         "Santa Lúcia",
         "Saint Lucia",
         "Santa Lucia"
        ],
        [
         720,
         678,
         "STP",
         "São Tomé e Príncipe",
         "São Tome and Principe",
         "Santo Tomé y Príncipe"
        ],
        [
         728,
         686,
         "SEN",
         "Senegal",
         "Senegal",
         "Senegal"
        ],
        [
         731,
         690,
         "SYC",
         "Seicheles",
         "Seychelles",
         "Seychelles"
        ],
        [
         735,
         694,
         "SLE",
         "Serra Leoa",
         "Sierra Leone",
         "Sierra Leona"
        ],
        [
         737,
         688,
         "SRB",
         "Sérvia",
         "Serbia",
         "Serbia"
        ],
        [
         741,
         702,
         "SGP",
         "Singapura",
         "Singapore",
         "Singapur"
        ],
        [
         744,
         760,
         "SYR",
         "Síria",
         "Syria",
         "Siria"
        ],
        [
         748,
         706,
         "SOM",
         "Somália",
         "Somalia",
         "Somalia"
        ],
        [
         750,
         144,
         "LKA",
         "Sri Lanka",
         "Sri Lanka",
         "Sri Lanka"
        ],
        [
         754,
         748,
         "SWZ",
         "Suazilândia",
         "Swaziland",
         "Swazilandia"
        ],
        [
         755,
         744,
         "SJM",
         "Svalbard e Jan Mayen",
         "Svalbard and Jan Mayen",
         "Svalbard y Jan Mayen"
        ],
        [
         756,
         710,
         "ZAF",
         "África do Sul",
         "South Africa",
         "Sudáfrica"
        ],
        [
         759,
         736,
         "SDN",
         "Sudão",
         "Sudan",
         "Sudán"
        ],
        [
         760,
         728,
         "SSD",
         "Sudão do Sul",
         "South Sudan",
         "Sudán del Sur"
        ],
        [
         764,
         752,
         "SWE",
         "Suécia",
         "Sweden",
         "Suecia"
        ],
        [
         767,
         756,
         "CHE",
         "Suíça",
         "Switzerland",
         "Suiza"
        ],
        [
         770,
         740,
         "SUR",
         "Suriname",
         "Suriname",
         "Suriname"
        ],
        [
         772,
         762,
         "TJK",
         "Tadjiquistão",
         "Tajikistan",
         "Tayikistán"
        ],
        [
         776,
         764,
         "THA",
         "Tailândia",
         "Thailand",
         "Tailandia"
        ],
        [
         780,
         834,
         "TZA",
         "Tanzânia",
         "Tanzania",
         "Tanzanía"
        ],
        [
         781,
         898,
         "ATF",
         "Terras Austrais Francesas",
         "French Southern Lands",
         "Tierras Australes Francesas"
        ],
        [
         782,
         86,
         "IOT",
         "Território Britânico do Oceano Índico",
         "British Indian Ocean Territory",
         "Territorio Británico del Océano Indico"
        ],
        [
         783,
         262,
         "DJI",
         "Djibuti",
         "Djibouti",
         "Djibouti"
        ],
        [
         785,
         898,
         "ZZZ",
         "Território da Alta Comissão do Pacífico Ocidental",
         "Territory of the High Commissioner of the Western Pacif",
         "Territorio del Alto Comisionado del Pacífico Occidental"
        ],
        [
         786,
         826,
         "GBR",
         "Território Antártico Britânico",
         "British Antarctic Territory",
         "Territorio Antártico Británico"
        ],
        [
         788,
         148,
         "TCD",
         "Chade",
         "Chad",
         "Chad"
        ],
        [
         790,
         200,
         "CSK",
         "Tchecoslováquia",
         "Czechoslovakia",
         "Checoslovaquia"
        ],
        [
         791,
         203,
         "CZE",
         "Tcheca, República",
         "Czech Republic",
         "República Checa"
        ],
        [
         795,
         626,
         "TLS",
         "Timor Leste",
         "East Timor",
         "Timor Leste"
        ],
        [
         800,
         768,
         "TGO",
         "Togo",
         "Togo",
         "Togo"
        ],
        [
         805,
         772,
         "TKL",
         "Toquelau",
         "Tokelau",
         "Tokelau"
        ],
        [
         810,
         776,
         "TON",
         "Tonga",
         "Tonga",
         "Tonga"
        ],
        [
         815,
         780,
         "TTO",
         "Trinidad e Tobago",
         "Trinidad and Tobago",
         "Trinidad y Tobago"
        ],
        [
         820,
         788,
         "TUN",
         "Tunísia",
         "Tunisia",
         "Túnez"
        ],
        [
         823,
         796,
         "TCA",
         "Turcas e Caicos, Ilhas",
         "Turks and Caicos, Islands",
         "Turcas y Caicos, Islas"
        ],
        [
         824,
         795,
         "TKM",
         "Turcomenistão",
         "Turkmenistan",
         "Turkmenistán"
        ],
        [
         827,
         792,
         "TUR",
         "Turquia",
         "Turkey",
         "Turquía"
        ],
        [
         828,
         798,
         "TUV",
         "Tuvalu",
         "Tuvalu",
         "Tuvalu"
        ],
        [
         831,
         804,
         "UKR",
         "Ucrânia",
         "Ukraine",
         "Ucrania"
        ],
        [
         833,
         800,
         "UGA",
         "Uganda",
         "Uganda",
         "Uganda"
        ],
        [
         840,
         898,
         "ZZZ",
         "União das Repúblicas Socialistas Soviéticas",
         "Union of Soviet Socialist Republics",
         "Unión de Repúblicas Socialistas Soviéticas"
        ],
        [
         845,
         858,
         "URY",
         "Uruguai",
         "Uruguay",
         "Uruguay"
        ],
        [
         847,
         860,
         "UZB",
         "Uzbequistão",
         "Uzbekistan",
         "Uzbekistán"
        ],
        [
         848,
         336,
         "VAT",
         "Vaticano",
         "Vatican City",
         "Santa Sede (Vaticano)"
        ],
        [
         850,
         862,
         "VEN",
         "Venezuela",
         "Venezuela",
         "Venezuela"
        ],
        [
         858,
         704,
         "VNM",
         "Vietnã",
         "Vietnam",
         "Viet Nam"
        ],
        [
         863,
         92,
         "VGB",
         "Virgens, Ilhas (Britânicas)",
         "Virgin Islands (UK)",
         "Vírgenes Británicas, Islas"
        ],
        [
         866,
         850,
         "VIR",
         "Virgens, Ilhas (Americanas)",
         "Virgin Islands (USA)",
         "Vírgenes de los Estados Unidos, Islas"
        ],
        [
         870,
         242,
         "FJI",
         "Fiji",
         "Fiji",
         "Fiji"
        ],
        [
         873,
         840,
         "USA",
         "Wake, Ilha",
         "Wake Island",
         "Isla Wake"
        ],
        [
         875,
         876,
         "WLF",
         "Wallis e Futuna, Ilhas",
         "Wallis and Futuna",
         "Wallis y Futuna"
        ],
        [
         888,
         180,
         "COD",
         "Congo, República Democrática",
         "Democratic Republic of the Congo",
         "República Democrática del Congo"
        ],
        [
         890,
         894,
         "ZMB",
         "Zâmbia",
         "Zambia",
         "Zambia"
        ],
        [
         895,
         592,
         "PCZ",
         "Zona do Canal do Panamá",
         "Panama Canal Zone",
         "Zona del Canal de Panamá"
        ],
        [
         990,
         898,
         "ZZZ",
         "Provisão de Navios e Aeronaves",
         "Planes and ships provisions",
         "Disposiciones para buques y aviones"
        ],
        [
         994,
         898,
         "ZZZ",
         "A Designar",
         "To define",
         "A designar"
        ],
        [
         995,
         898,
         "ZZZ",
         "Bancos Centrais",
         "Central Banks",
         "Bancos Centrales"
        ],
        [
         997,
         898,
         "ZZZ",
         "Organizações Internacionais",
         "International Organizations",
         "Organizaciones Internacionales"
        ],
        [
         998,
         898,
         "ZZZ",
         "Sem informação",
         "Sem informação",
         "Sem informação"
        ],
        [
         999,
         898,
         "ZZZ",
         "Não Declarados",
         "Not declared",
         "No declarados"
        ]
       ],
       "datasetInfos": [
        {
         "name": "_sqldf",
         "schema": {
          "fields": [
           {
            "metadata": {},
            "name": "CO_PAIS",
            "nullable": true,
            "type": "long"
           },
           {
            "metadata": {},
            "name": "CO_PAIS_ISON3",
            "nullable": true,
            "type": "long"
           },
           {
            "metadata": {},
            "name": "CO_PAIS_ISOA3",
            "nullable": true,
            "type": "string"
           },
           {
            "metadata": {},
            "name": "NO_PAIS",
            "nullable": true,
            "type": "string"
           },
           {
            "metadata": {},
            "name": "NO_PAIS_ING",
            "nullable": true,
            "type": "string"
           },
           {
            "metadata": {},
            "name": "NO_PAIS_ESP",
            "nullable": true,
            "type": "string"
           }
          ],
          "type": "struct"
         },
         "tableIdentifier": null,
         "typeStr": "pyspark.sql.dataframe.DataFrame"
        }
       ],
       "dbfsResultPath": null,
       "isJsonSchema": true,
       "metadata": {
        "dataframeName": "_sqldf",
        "executionCount": 1
       },
       "overflow": false,
       "plotOptions": {
        "customPlotOptions": {},
        "displayType": "table",
        "pivotAggregation": null,
        "pivotColumns": null,
        "xColumns": null,
        "yColumns": null
       },
       "removedWidgets": [],
       "schema": [
        {
         "metadata": "{}",
         "name": "CO_PAIS",
         "type": "\"long\""
        },
        {
         "metadata": "{}",
         "name": "CO_PAIS_ISON3",
         "type": "\"long\""
        },
        {
         "metadata": "{}",
         "name": "CO_PAIS_ISOA3",
         "type": "\"string\""
        },
        {
         "metadata": "{}",
         "name": "NO_PAIS",
         "type": "\"string\""
        },
        {
         "metadata": "{}",
         "name": "NO_PAIS_ING",
         "type": "\"string\""
        },
        {
         "metadata": "{}",
         "name": "NO_PAIS_ESP",
         "type": "\"string\""
        }
       ],
       "type": "table"
      }
     },
     "output_type": "display_data"
    }
   ],
   "source": [
    "%sql\n",
    "\n",
    "-- faz um select para verificar a tabela que está na camada bronze\n",
    "\n",
    "select * from bronze.co_pais"
   ]
  },
  {
   "cell_type": "code",
   "execution_count": 0,
   "metadata": {
    "application/vnd.databricks.v1+cell": {
     "cellMetadata": {
      "byteLimit": 2048000,
      "rowLimit": 10000
     },
     "inputWidgets": {},
     "nuid": "366b554d-9165-4a70-a824-b708e0124ce6",
     "showTitle": false,
     "title": ""
    }
   },
   "outputs": [],
   "source": [
    "mapping_columns = {\n",
    "    'CO_PAIS':'cod_pais',\n",
    "    'CO_PAIS_ISON3':'cod_pais_ison3',\n",
    "    'CO_PAIS_ISOA3':'cod_pais_isoa3',\n",
    "    'NO_PAIS':'nm_pais'\n",
    "}"
   ]
  },
  {
   "cell_type": "code",
   "execution_count": 0,
   "metadata": {
    "application/vnd.databricks.v1+cell": {
     "cellMetadata": {
      "byteLimit": 2048000,
      "rowLimit": 10000
     },
     "inputWidgets": {},
     "nuid": "5c8a97c3-cb55-434b-b047-644a205034e6",
     "showTitle": false,
     "title": ""
    }
   },
   "outputs": [],
   "source": [
    "from pyspark.sql.functions import col\n",
    "\n",
    "# Crie um DataFrame a partir da consulta SQL\n",
    "df = spark.sql(\"\"\"\n",
    "SELECT *\n",
    "FROM bronze.co_pais\n",
    "\n",
    "\"\"\")\n",
    "\n",
    "\n",
    "# Renomeie as colunas de acordo com o mapeamento\n",
    "for old_col, new_col in mapping_columns.items():\n",
    "    df = df.withColumnRenamed(old_col, new_col)"
   ]
  },
  {
   "cell_type": "code",
   "execution_count": 0,
   "metadata": {
    "application/vnd.databricks.v1+cell": {
     "cellMetadata": {
      "byteLimit": 2048000,
      "rowLimit": 10000
     },
     "inputWidgets": {},
     "nuid": "d6af3e45-6c5e-47bd-826f-bc20da7d6e1b",
     "showTitle": false,
     "title": ""
    }
   },
   "outputs": [],
   "source": [
    "lista_columns = ['NO_PAIS_ING', 'NO_PAIS_ESP']"
   ]
  },
  {
   "cell_type": "code",
   "execution_count": 0,
   "metadata": {
    "application/vnd.databricks.v1+cell": {
     "cellMetadata": {
      "byteLimit": 2048000,
      "rowLimit": 10000
     },
     "inputWidgets": {},
     "nuid": "70a3200e-8e60-49a3-859c-73b763b84769",
     "showTitle": false,
     "title": ""
    }
   },
   "outputs": [],
   "source": [
    "df = df.drop(*lista_columns)"
   ]
  },
  {
   "cell_type": "code",
   "execution_count": 0,
   "metadata": {
    "application/vnd.databricks.v1+cell": {
     "cellMetadata": {
      "byteLimit": 2048000,
      "rowLimit": 10000
     },
     "inputWidgets": {},
     "nuid": "54d4209d-9e0a-4b93-8c94-34b94f13068f",
     "showTitle": false,
     "title": ""
    }
   },
   "outputs": [],
   "source": [
    "# Crie a view temporária com o DataFrame renomeado\n",
    "df.createOrReplaceTempView('vw_co_pais')"
   ]
  },
  {
   "cell_type": "code",
   "execution_count": 0,
   "metadata": {
    "application/vnd.databricks.v1+cell": {
     "cellMetadata": {
      "byteLimit": 2048000,
      "rowLimit": 10000
     },
     "inputWidgets": {},
     "nuid": "45bab523-ca05-4781-91f3-c8e3597f36b7",
     "showTitle": false,
     "title": ""
    }
   },
   "outputs": [],
   "source": [
    "permanent_table = \"d_pais\"\n",
    "\n",
    "df.write.format(\"parquet\").saveAsTable(permanent_table)"
   ]
  },
  {
   "cell_type": "code",
   "execution_count": 0,
   "metadata": {
    "application/vnd.databricks.v1+cell": {
     "cellMetadata": {
      "byteLimit": 2048000,
      "implicitDf": true,
      "rowLimit": 10000
     },
     "inputWidgets": {},
     "nuid": "095a3560-57e6-4c6e-9f0e-cae8ee4d68cd",
     "showTitle": false,
     "title": ""
    }
   },
   "outputs": [
    {
     "output_type": "display_data",
     "data": {
      "text/html": [
       "<style scoped>\n",
       "  .table-result-container {\n",
       "    max-height: 300px;\n",
       "    overflow: auto;\n",
       "  }\n",
       "  table, th, td {\n",
       "    border: 1px solid black;\n",
       "    border-collapse: collapse;\n",
       "  }\n",
       "  th, td {\n",
       "    padding: 5px;\n",
       "  }\n",
       "  th {\n",
       "    text-align: left;\n",
       "  }\n",
       "</style><div class='table-result-container'><table class='table-result'><thead style='background-color: white'><tr><th>num_affected_rows</th><th>num_inserted_rows</th></tr></thead><tbody></tbody></table></div>"
      ]
     },
     "metadata": {
      "application/vnd.databricks.v1+output": {
       "addedWidgets": {},
       "aggData": [],
       "aggError": "",
       "aggOverflow": false,
       "aggSchema": [],
       "aggSeriesLimitReached": false,
       "aggType": "",
       "arguments": {},
       "columnCustomDisplayInfos": {},
       "data": [],
       "datasetInfos": [
        {
         "name": "_sqldf",
         "schema": {
          "fields": [
           {
            "metadata": {},
            "name": "num_affected_rows",
            "nullable": true,
            "type": "long"
           },
           {
            "metadata": {},
            "name": "num_inserted_rows",
            "nullable": true,
            "type": "long"
           }
          ],
          "type": "struct"
         },
         "tableIdentifier": null,
         "typeStr": "pyspark.sql.dataframe.DataFrame"
        }
       ],
       "dbfsResultPath": null,
       "isJsonSchema": true,
       "metadata": {
        "dataframeName": "_sqldf",
        "executionCount": 7
       },
       "overflow": false,
       "plotOptions": {
        "customPlotOptions": {},
        "displayType": "table",
        "pivotAggregation": null,
        "pivotColumns": null,
        "xColumns": null,
        "yColumns": null
       },
       "removedWidgets": [],
       "schema": [
        {
         "metadata": "{}",
         "name": "num_affected_rows",
         "type": "\"long\""
        },
        {
         "metadata": "{}",
         "name": "num_inserted_rows",
         "type": "\"long\""
        }
       ],
       "type": "table"
      }
     },
     "output_type": "display_data"
    }
   ],
   "source": [
    "%sql\n",
    "\n",
    "-- mudando a tabela para o schema silver\n",
    "\n",
    "CREATE TABLE IF NOT EXISTS gold.d_pais AS SELECT * FROM default.d_pais;"
   ]
  }
 ],
 "metadata": {
  "application/vnd.databricks.v1+notebook": {
   "dashboards": [],
   "language": "python",
   "notebookMetadata": {
    "mostRecentlyExecutedCommandWithImplicitDF": {
     "commandId": 391859381772985,
     "dataframes": [
      "_sqldf"
     ]
    },
    "pythonIndentUnit": 4
   },
   "notebookName": "d_pais",
   "widgets": {}
  }
 },
 "nbformat": 4,
 "nbformat_minor": 0
}
