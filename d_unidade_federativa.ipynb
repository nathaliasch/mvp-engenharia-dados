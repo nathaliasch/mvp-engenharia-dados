{
 "cells": [
  {
   "cell_type": "markdown",
   "metadata": {
    "application/vnd.databricks.v1+cell": {
     "cellMetadata": {
      "byteLimit": 2048000,
      "rowLimit": 10000
     },
     "inputWidgets": {},
     "nuid": "1bc95398-787f-40cb-a82c-acc8ce320c67",
     "showTitle": false,
     "title": ""
    }
   },
   "source": [
    "\n",
    "## Extração da dimensão d_unidade_federativa para a camada gold\n"
   ]
  },
  {
   "cell_type": "code",
   "execution_count": 0,
   "metadata": {
    "application/vnd.databricks.v1+cell": {
     "cellMetadata": {
      "byteLimit": 2048000,
      "implicitDf": true,
      "rowLimit": 10000
     },
     "inputWidgets": {},
     "nuid": "23b403d3-dcb9-48e9-9c36-4671f16a5470",
     "showTitle": false,
     "title": ""
    }
   },
   "outputs": [
    {
     "output_type": "display_data",
     "data": {
      "text/html": [
       "<style scoped>\n",
       "  .table-result-container {\n",
       "    max-height: 300px;\n",
       "    overflow: auto;\n",
       "  }\n",
       "  table, th, td {\n",
       "    border: 1px solid black;\n",
       "    border-collapse: collapse;\n",
       "  }\n",
       "  th, td {\n",
       "    padding: 5px;\n",
       "  }\n",
       "  th {\n",
       "    text-align: left;\n",
       "  }\n",
       "</style><div class='table-result-container'><table class='table-result'><thead style='background-color: white'><tr><th>CO_URF</th><th>NO_URF</th></tr></thead><tbody><tr><td>9999999</td><td>9999999 - NAO INFORMADO</td></tr><tr><td>147851</td><td>0147851 - ARF - BELA VISTA</td></tr><tr><td>812200</td><td>0812200 - ARARAQUARA</td></tr><tr><td>510353</td><td>0510353 - IRF ILHEUS</td></tr><tr><td>710251</td><td>0710251 - IRF CAMPOS DOS GOYTACAZES</td></tr><tr><td>1010351</td><td>1010351 - IRF SANTANA DO LIVRAMENTO</td></tr><tr><td>1017504</td><td>1017504 - IRF PORTO MAUA</td></tr><tr><td>1017505</td><td>1017505 - IRF PORTO XAVIER</td></tr><tr><td>510352</td><td>0510352 - IRF PORTO SEGURO</td></tr><tr><td>317903</td><td>0317903 - IRF SAO LUIS</td></tr><tr><td>215200</td><td>0215200 - MONTE DOURADO</td></tr><tr><td>220101</td><td>0220101 - ITACOATIARA</td></tr><tr><td>510102</td><td>0510102 - CAMACARI</td></tr><tr><td>130101</td><td>0130101 - ALTO ARAGUAIA</td></tr><tr><td>812700</td><td>0812700 - SAO SEBASTIAO</td></tr><tr><td>1015400</td><td>1015400 - PORTO ALEGRE</td></tr><tr><td>317800</td><td>0317800 - PORTO DE PECEM</td></tr><tr><td>910152</td><td>0910152 - ANTONINA</td></tr><tr><td>1010951</td><td>1010951 - ITAQUI</td></tr><tr><td>417700</td><td>0417700 - AEROPORTO GUARARAPES</td></tr><tr><td>210251</td><td>0210251 - OBIDOS</td></tr><tr><td>920351</td><td>0920351 - DIONISIO CERQUEIRA</td></tr><tr><td>920205</td><td>0920205 - RIO DO SUL</td></tr><tr><td>1010955</td><td>1010955 - QUARAI</td></tr><tr><td>1011000</td><td>1011000 - SANTANA DO LIVRAMENTO</td></tr><tr><td>910602</td><td>0910602 - MARECHAL CANDIDO RONDON</td></tr><tr><td>410300</td><td>0410300 - PETROLINA</td></tr><tr><td>8110000</td><td>8110000 - NAO INFORMADO</td></tr><tr><td>920251</td><td>0920251 - SAO FRANCISCO DO SUL</td></tr><tr><td>0</td><td>0000000 - NAO INFORMADO</td></tr><tr><td>327600</td><td>0327600 - PORTO DE SAO LUIS</td></tr><tr><td>140251</td><td>0140251 - BELA VISTA</td></tr><tr><td>145100</td><td>0145100 - MUNDO NOVO</td></tr><tr><td>811201</td><td>0811201 - AMERICANA</td></tr><tr><td>217601</td><td>0217601 - AEROPORTO INTERNAC. DE BELEM (PA)</td></tr><tr><td>210106</td><td>0210106 - BREVES</td></tr><tr><td>210151</td><td>0210151 - BARCARENA</td></tr><tr><td>615100</td><td>0615100 - IRF/BELO HORIZONTE - MG</td></tr><tr><td>140151</td><td>0140151 - BELA VISTA</td></tr><tr><td>145352</td><td>0145352 - PORTO MURTINHO</td></tr><tr><td>915200</td><td>0915200 - CURITIBA</td></tr><tr><td>1011052</td><td>1011052 - QUARAI</td></tr><tr><td>920600</td><td>0920600 - ITAJAI</td></tr><tr><td>1015300</td><td>1015300 - CHUI</td></tr><tr><td>920151</td><td>0920151 - IMBITUBA</td></tr><tr><td>210400</td><td>0210400 - MONTE DOURADO</td></tr><tr><td>1010703</td><td>1010703 - MONTENEGRO</td></tr><tr><td>325100</td><td>0325100 - PORTO DE SAO LUIS</td></tr><tr><td>1015600</td><td>1015600 - SANTANA DO LIVRAMENTO</td></tr><tr><td>317600</td><td>0317600 - PORTO DE FORTALEZA</td></tr><tr><td>925200</td><td>0925200 - FLORIANOPOLIS</td></tr><tr><td>1010954</td><td>1010954 - BARRA DO QUARAI</td></tr><tr><td>417800</td><td>0417800 - PORTO DE SUAPE</td></tr><tr><td>1010104</td><td>1010104 - SANTA CRUZ DO SUL</td></tr><tr><td>515100</td><td>0515100 - ILHEUS</td></tr><tr><td>420153</td><td>0420153 - AREIA BRANCA</td></tr><tr><td>910351</td><td>0910351 - SANTO ANTONIO DO SUDOESTE</td></tr><tr><td>517600</td><td>0517600 - PORTO DE SALVADOR</td></tr><tr><td>1011200</td><td>1011200 - CHUI</td></tr><tr><td>1010500</td><td>1010500 - RIO GRANDE</td></tr><tr><td>317700</td><td>0317700 - AEROPORTO INTERNACIONAL PINTO MARTINS</td></tr><tr><td>917601</td><td>0917601 - ANTONINA</td></tr><tr><td>1011051</td><td>1011051 - BAGE</td></tr><tr><td>810603</td><td>0810603 - CUBATAO</td></tr><tr><td>140152</td><td>0140152 - PORTO MURTINHO</td></tr><tr><td>1011001</td><td>1011001 - DOM PEDRITO</td></tr><tr><td>925100</td><td>0925100 - ITAJAI</td></tr><tr><td>910652</td><td>0910652 - SANTA HELENA</td></tr><tr><td>920153</td><td>0920153 - AEROP. INTERNAC. HERCILIO LUZ (SC)</td></tr><tr><td>715300</td><td>0715300 - ANGRA DOS REIS</td></tr><tr><td>710451</td><td>0710451 - MACAE</td></tr><tr><td>140252</td><td>0140252 - PORTO MURTINHO</td></tr><tr><td>145200</td><td>0145200 - CORUMBA</td></tr><tr><td>517601</td><td>0517601 - AEROP. INTERN. DOIS DE JULHO (BA)</td></tr><tr><td>517700</td><td>0517700 - AEROPORTO INTERNACIONAL DE SALVADOR DEP. LUIS EDUARDO</td></tr><tr><td>517602</td><td>0517602 - PORTO DE ARATU</td></tr><tr><td>317601</td><td>0317601 - AEROP. INTERN. PINTO MARTINS (CE)</td></tr><tr><td>420151</td><td>0420151 - AREIA BRANCA</td></tr><tr><td>910700</td><td>0910700 - PARANAGUA</td></tr><tr><td>145300</td><td>0145300 - PONTA PORA</td></tr><tr><td>917801</td><td>0917801 - ANTONINA</td></tr><tr><td>220152</td><td>0220152 - TABATINGA</td></tr><tr><td>915100</td><td>0915100 - ANTONINA</td></tr><tr><td>910651</td><td>0910651 - GUAIRA</td></tr><tr><td>715500</td><td>0715500 - MACAE</td></tr><tr><td>910751</td><td>0910751 - ANTONINA</td></tr><tr><td>910151</td><td>0910151 - SAO JOSE DOS PINHAIS</td></tr><tr><td>317602</td><td>0317602 - PECEM</td></tr><tr><td>910601</td><td>0910601 - MEDIANEIRA</td></tr><tr><td>1010953</td><td>1010953 - SAO BORJA</td></tr><tr><td>217600</td><td>0217600 - PORTO DE BELEM</td></tr><tr><td>1015500</td><td>1015500 - CHUI</td></tr><tr><td>910600</td><td>0910600 - FOZ DO IGUACU</td></tr><tr><td>1010900</td><td>1010900 - URUGUAIANA</td></tr><tr><td>917600</td><td>0917600 - PORTO DE PARANAGUA</td></tr><tr><td>815300</td><td>0815300 - SAO SEBASTIAO</td></tr><tr><td>715400</td><td>0715400 - RIO DE JANEIRO</td></tr><tr><td>415100</td><td>0415100 - IRF/RECIFE</td></tr><tr><td>1017600</td><td>1017600 - AEROPORTO SALGADO FILHO - PORTO ALEGRE</td></tr><tr><td>510600</td><td>0510600 - ILHEUS</td></tr><tr><td>230151</td><td>0230151 - BRASILEIA</td></tr><tr><td>217700</td><td>0217700 - AEROPORTO INTERNACIONAL DE BELEM</td></tr><tr><td>925251</td><td>0925251 - IMBITUBA</td></tr><tr><td>917700</td><td>0917700 - AEROPORTO INTERN. AFONSO PENA (PR)</td></tr><tr><td>145351</td><td>0145351 - BELA VISTA</td></tr><tr><td>217602</td><td>0217602 - BARCARENA</td></tr><tr><td>1010109</td><td>1010109 - NAO INFORMADO</td></tr><tr><td>910</td><td>0000910 - SEFAZ-SC - CONVENIO CONSULTA SISTEMA CARGA</td></tr><tr><td>110100</td><td>0110100 - BRASILIA</td></tr><tr><td>117600</td><td>0117600 - AEROPORTO INTERNACIONAL DE BRASILIA</td></tr><tr><td>120100</td><td>0120100 - GOIANIA</td></tr><tr><td>120102</td><td>0120102 - CATALAO</td></tr><tr><td>120200</td><td>0120200 - ANAPOLIS</td></tr><tr><td>130100</td><td>0130100 - CUIABA</td></tr><tr><td>130151</td><td>0130151 - CACERES</td></tr><tr><td>140100</td><td>0140100 - CAMPO GRANDE</td></tr><tr><td>147600</td><td>0147600 - ALF - CORUMBÁ</td></tr><tr><td>147700</td><td>0147700 - ALF - MUNDO NOVO</td></tr><tr><td>147800</td><td>0147800 - ALF - PONTA PORÃ</td></tr><tr><td>147852</td><td>0147852 - ARF - PORTO MURTINHO</td></tr><tr><td>210100</td><td>0210100 - BELEM</td></tr><tr><td>210200</td><td>0210200 - SANTAREM</td></tr><tr><td>210252</td><td>0210252 - ALMEIRIM</td></tr><tr><td>210300</td><td>0210300 - MARABA</td></tr><tr><td>217800</td><td>0217800 - ALF - BELÉM</td></tr><tr><td>217801</td><td>0217801 - IRF - AEROPORTO INTERNACIONAL DE BELÉM</td></tr><tr><td>217802</td><td>0217802 - IRF - BARCARENA</td></tr><tr><td>220100</td><td>0220100 - DRF MANAUS</td></tr><tr><td>227600</td><td>0227600 - PORTO DE MANAUS</td></tr><tr><td>227603</td><td>0227603 - TABATINGA</td></tr><tr><td>227700</td><td>0227700 - AEROPORTO EDUARDO GOMES</td></tr><tr><td>230100</td><td>0230100 - RIO BRANCO</td></tr><tr><td>230152</td><td>0230152 - CRUZEIRO DO SUL</td></tr><tr><td>230154</td><td>0230154 - Assis Brasil</td></tr><tr><td>230155</td><td>0230155 - IRF - EPITACIOLâNDIA</td></tr><tr><td>240100</td><td>0240100 - MACAPA</td></tr><tr><td>240151</td><td>0240151 - OIAPOQUE</td></tr><tr><td>240152</td><td>0240152 - SANTANA</td></tr><tr><td>250100</td><td>0250100 - PORTO VELHO</td></tr><tr><td>250151</td><td>0250151 - GUAJARA-MIRIM</td></tr><tr><td>250152</td><td>0250152 - VILHENA</td></tr><tr><td>260100</td><td>0260100 - BOA VISTA</td></tr><tr><td>260151</td><td>0260151 - PACARAIMA</td></tr><tr><td>260152</td><td>0260152 - BONFIM</td></tr><tr><td>310100</td><td>0310100 - FORTALEZA</td></tr><tr><td>317900</td><td>0317900 - ALF - FORTALEZA</td></tr><tr><td>317901</td><td>0317901 - IRF - AEROPORTO INTERNACIONAL PINTO MARTINS</td></tr><tr><td>317902</td><td>0317902 - IRF - PORTO DE PECÉM</td></tr><tr><td>320100</td><td>0320100 - SAO LUIS</td></tr><tr><td>320151</td><td>0320151 - IRF - PORTO DE SÃO LUÍS</td></tr><tr><td>330100</td><td>0330100 - TERESINA</td></tr><tr><td>410100</td><td>0410100 - RECIFE</td></tr><tr><td>410102</td><td>0410102 - GOIANA</td></tr><tr><td>410251</td><td>0410251 - PETROLINA</td></tr><tr><td>417600</td><td>0417600 - PORTO DO RECIFE</td></tr><tr><td>417900</td><td>0417900 - ALF - RECIFE</td></tr><tr><td>417901</td><td>0417901 - IRF - AEROPORTO INTERNACIONAL DOS GUARARAPES</td></tr><tr><td>417902</td><td>0417902 - IRF - PORTO DE SUAPE</td></tr><tr><td>420100</td><td>0420100 - NATAL</td></tr><tr><td>420152</td><td>0420152 - PARNAMIRIM</td></tr><tr><td>420154</td><td>0420154 - IRF NATAL</td></tr><tr><td>420200</td><td>0420200 - MOSSORO</td></tr><tr><td>420252</td><td>0420252 - AREIA BRANCA</td></tr><tr><td>430100</td><td>0430100 - JOAO PESSOA</td></tr><tr><td>430151</td><td>0430151 - CABEDELO</td></tr><tr><td>440100</td><td>0440100 - MACEIO</td></tr><tr><td>440151</td><td>0440151 - MACEIO</td></tr><tr><td>510100</td><td>0510100 - SALVADOR</td></tr><tr><td>510300</td><td>0510300 - VITORIA DA CONQUISTA</td></tr><tr><td>510500</td><td>0510500 - ITABUNA</td></tr><tr><td>510551</td><td>0510551 - PORTO SEGURO</td></tr><tr><td>510552</td><td>0510552 - ILHEUS</td></tr><tr><td>517800</td><td>0517800 - ALF - SALVADOR</td></tr><tr><td>517801</td><td>0517801 - IRF - AEROPORTO INTERNACIONAL DE SALVADOR</td></tr><tr><td>520100</td><td>0520100 - ARACAJU</td></tr><tr><td>520105</td><td>0520105 - PROPRIA</td></tr><tr><td>610100</td><td>0610100 - BELO HORIZONTE</td></tr><tr><td>610300</td><td>0610300 - GOVERNADOR VALADARES</td></tr><tr><td>610301</td><td>0610301 - TEOFILO OTONI</td></tr><tr><td>610400</td><td>0610400 - JUIZ DE FORA</td></tr><tr><td>610500</td><td>0610500 - UBERABA</td></tr><tr><td>610600</td><td>0610600 - VARGINHA</td></tr><tr><td>610900</td><td>0610900 - UBERLANDIA</td></tr><tr><td>611000</td><td>0611000 - CONTAGEM</td></tr><tr><td>617600</td><td>0617600 - AEROPORTO TANCREDO NEVES</td></tr><tr><td>617700</td><td>0617700 - ALF - BELO HORIZONTE</td></tr><tr><td>617701</td><td>0617701 - IRF - AEROPORTO INTERNACIONAL DE CONFINS</td></tr><tr><td>710100</td><td>0710100 - RIO DE JANEIRO/CENTRO-SUL</td></tr><tr><td>710200</td><td>0710200 - NITEROI</td></tr><tr><td>710203</td><td>0710203 - CABO FRIO</td></tr><tr><td>710300</td><td>0710300 - NOVA IGUACU</td></tr><tr><td>710301</td><td>0710301 - DUQUE DE CAXIAS</td></tr><tr><td>710400</td><td>0710400 - CAMPOS DOS GOITACAZES</td></tr><tr><td>710500</td><td>0710500 - VOLTA REDONDA</td></tr><tr><td>710504</td><td>0710504 - ANGRA DOS REIS</td></tr><tr><td>710600</td><td>0710600 - RIO DE JANEIRO/CENTRO-NORTE</td></tr><tr><td>711000</td><td>0711000 - MACAE</td></tr><tr><td>717600</td><td>0717600 - PORTO DO RIO DE JANEIRO</td></tr><tr><td>717700</td><td>0717700 - AEROPORTO INTERNACIONAL DO RIO DE JANEIRO</td></tr><tr><td>717800</td><td>0717800 - PORTO DE ITAGUAI</td></tr><tr><td>720100</td><td>0720100 - VITORIA</td></tr><tr><td>727600</td><td>0727600 - PORTO DE VITORIA</td></tr><tr><td>810100</td><td>0810100 - SAO PAULO/CENTRO NORTE</td></tr><tr><td>810300</td><td>0810300 - BAURU</td></tr><tr><td>810303</td><td>0810303 - JAU</td></tr><tr><td>810400</td><td>0810400 - CAMPINAS</td></tr><tr><td>810500</td><td>0810500 - PRESIDENTE PRUDENTE</td></tr><tr><td>810600</td><td>0810600 - SANTOS</td></tr><tr><td>810700</td><td>0810700 - SAO JOSE DO RIO PRETO</td></tr><tr><td>810800</td><td>0810800 - TAUBATE</td></tr><tr><td>810803</td><td>0810803 - GUARATINGUETA</td></tr><tr><td>810900</td><td>0810900 - RIBEIRAO PRETO</td></tr><tr><td>810904</td><td>0810904 - BEBEDOURO</td></tr><tr><td>811000</td><td>0811000 - SOROCABA</td></tr><tr><td>811100</td><td>0811100 - GUARULHOS</td></tr><tr><td>811200</td><td>0811200 - LIMEIRA</td></tr><tr><td>811300</td><td>0811300 - OSASCO</td></tr><tr><td>811401</td><td>0811401 - DIADEMA</td></tr><tr><td>811404</td><td>0811404 - SAO BERNARDO DO CAMPO</td></tr><tr><td>812000</td><td>0812000 - SAO JOSE DOS CAMPOS</td></tr><tr><td>812051</td><td>0812051 - SAO SEBASTIAO</td></tr><tr><td>812300</td><td>0812300 - FRANCA</td></tr><tr><td>812400</td><td>0812400 - JUNDIAI</td></tr><tr><td>812500</td><td>0812500 - PIRACICABA</td></tr><tr><td>815500</td><td>0815500 - SAO PAULO</td></tr><tr><td>817600</td><td>0817600 - AEROPORTO INTERNACIONAL DE SAO PAULO/GUARULHOS</td></tr><tr><td>817700</td><td>0817700 - AEROPORTO INTERNACIONAL DE VIRACOPOS</td></tr><tr><td>817800</td><td>0817800 - PORTO DE SANTOS</td></tr><tr><td>817900</td><td>0817900 - SAO PAULO</td></tr><tr><td>910100</td><td>0910100 - CURITIBA</td></tr><tr><td>910200</td><td>0910200 - LONDRINA</td></tr><tr><td>910300</td><td>0910300 - CASCAVEL</td></tr><tr><td>910400</td><td>0910400 - PONTA GROSSA</td></tr><tr><td>910500</td><td>0910500 - MARINGA</td></tr><tr><td>910506</td><td>0910506 - UMUARAMA</td></tr><tr><td>917500</td><td>0917500 - ALF - FOZ DO IGUAÇU</td></tr><tr><td>917501</td><td>0917501 - IRF - GUAÍRA</td></tr><tr><td>917502</td><td>0917502 - IRF - SANTA HELENA</td></tr><tr><td>917800</td><td>0917800 - PORTO DE PARANAGUA</td></tr><tr><td>917900</td><td>0917900 - ALF - CURITIBA</td></tr><tr><td>917901</td><td>0917901 - IRF - AEROPORTO INTERNACIONAL AFONSO PENA</td></tr><tr><td>920100</td><td>0920100 - FLORIANOPOLIS</td></tr><tr><td>920102</td><td>0920102 - CRICIUMA</td></tr><tr><td>920200</td><td>0920200 - JOINVILLE</td></tr><tr><td>920203</td><td>0920203 - JARAGUA DO SUL</td></tr><tr><td>927501</td><td>0927501 - IRF - AEROPORTO INTERNACIONAL DE FLORIANÓPOLIS</td></tr><tr><td>927502</td><td>0927502 - IRF - IMBITUBA</td></tr><tr><td>927600</td><td>0927600 - AEROPORTO DE FLORIANOPOLIS</td></tr><tr><td>927601</td><td>0927601 - IMBITUBA</td></tr><tr><td>927700</td><td>0927700 - PORTO DE SAO FRANCISCO DO SUL</td></tr><tr><td>927800</td><td>0927800 - ITAJAI</td></tr><tr><td>927900</td><td>0927900 - ALF - DIONÍSIO CERQUEIRA</td></tr><tr><td>1010103</td><td>1010103 - GUAIBA</td></tr><tr><td>1010151</td><td>1010151 - TRAMANDAI</td></tr><tr><td>1010200</td><td>1010200 - PELOTAS</td></tr><tr><td>1010252</td><td>1010252 - JAGUARAO</td></tr><tr><td>1010253</td><td>1010253 - BAGE</td></tr><tr><td>1010300</td><td>1010300 - SANTA MARIA</td></tr><tr><td>1010600</td><td>1010600 - CAXIAS DO SUL</td></tr><tr><td>1010700</td><td>1010700 - NOVO HAMBURGO</td></tr><tr><td>1010851</td><td>1010851 - PORTO MAUA</td></tr><tr><td>1010852</td><td>1010852 - PORTO XAVIER</td></tr><tr><td>1011100</td><td>1011100 - SANTA CRUZ DO SUL</td></tr><tr><td>1017500</td><td>1017500 - ALF - URUGUAIANA</td></tr><tr><td>1017501</td><td>1017501 - IRF - ITAQUI</td></tr><tr><td>1017502</td><td>1017502 - IRF - QUARAÍ</td></tr><tr><td>1017503</td><td>1017503 - IRF - SÃO BORJA</td></tr><tr><td>1017551</td><td>1017551 - ARF - BARRA DO QUARAÍ</td></tr><tr><td>1017700</td><td>1017700 - PORTO DE RIO GRANDE</td></tr><tr><td>1017701</td><td>1017701 - IRF - CHUÍ</td></tr><tr><td>1017800</td><td>1017800 - ALF - PORTO ALEGRE</td></tr><tr><td>1017801</td><td>1017801 - IRF - AEROPORTO INTERNACIONAL SALGADO FILHO</td></tr><tr><td>1017900</td><td>1017900 - ALF - SANTANA DO LIVRAMENTO</td></tr><tr><td>815400</td><td>0815400 - NAO INFORMADO</td></tr><tr><td>927500</td><td>0927500 - ALF - FLORIANÓPOLIS</td></tr><tr><td>710252</td><td>0710252 - IRF MACAE</td></tr></tbody></table></div>"
      ]
     },
     "metadata": {
      "application/vnd.databricks.v1+output": {
       "addedWidgets": {},
       "aggData": [],
       "aggError": "",
       "aggOverflow": false,
       "aggSchema": [],
       "aggSeriesLimitReached": false,
       "aggType": "",
       "arguments": {},
       "columnCustomDisplayInfos": {},
       "data": [
        [
         9999999,
         "9999999 - NAO INFORMADO"
        ],
        [
         147851,
         "0147851 - ARF - BELA VISTA"
        ],
        [
         812200,
         "0812200 - ARARAQUARA"
        ],
        [
         510353,
         "0510353 - IRF ILHEUS"
        ],
        [
         710251,
         "0710251 - IRF CAMPOS DOS GOYTACAZES"
        ],
        [
         1010351,
         "1010351 - IRF SANTANA DO LIVRAMENTO"
        ],
        [
         1017504,
         "1017504 - IRF PORTO MAUA"
        ],
        [
         1017505,
         "1017505 - IRF PORTO XAVIER"
        ],
        [
         510352,
         "0510352 - IRF PORTO SEGURO"
        ],
        [
         317903,
         "0317903 - IRF SAO LUIS"
        ],
        [
         215200,
         "0215200 - MONTE DOURADO"
        ],
        [
         220101,
         "0220101 - ITACOATIARA"
        ],
        [
         510102,
         "0510102 - CAMACARI"
        ],
        [
         130101,
         "0130101 - ALTO ARAGUAIA"
        ],
        [
         812700,
         "0812700 - SAO SEBASTIAO"
        ],
        [
         1015400,
         "1015400 - PORTO ALEGRE"
        ],
        [
         317800,
         "0317800 - PORTO DE PECEM"
        ],
        [
         910152,
         "0910152 - ANTONINA"
        ],
        [
         1010951,
         "1010951 - ITAQUI"
        ],
        [
         417700,
         "0417700 - AEROPORTO GUARARAPES"
        ],
        [
         210251,
         "0210251 - OBIDOS"
        ],
        [
         920351,
         "0920351 - DIONISIO CERQUEIRA"
        ],
        [
         920205,
         "0920205 - RIO DO SUL"
        ],
        [
         1010955,
         "1010955 - QUARAI"
        ],
        [
         1011000,
         "1011000 - SANTANA DO LIVRAMENTO"
        ],
        [
         910602,
         "0910602 - MARECHAL CANDIDO RONDON"
        ],
        [
         410300,
         "0410300 - PETROLINA"
        ],
        [
         8110000,
         "8110000 - NAO INFORMADO"
        ],
        [
         920251,
         "0920251 - SAO FRANCISCO DO SUL"
        ],
        [
         0,
         "0000000 - NAO INFORMADO"
        ],
        [
         327600,
         "0327600 - PORTO DE SAO LUIS"
        ],
        [
         140251,
         "0140251 - BELA VISTA"
        ],
        [
         145100,
         "0145100 - MUNDO NOVO"
        ],
        [
         811201,
         "0811201 - AMERICANA"
        ],
        [
         217601,
         "0217601 - AEROPORTO INTERNAC. DE BELEM (PA)"
        ],
        [
         210106,
         "0210106 - BREVES"
        ],
        [
         210151,
         "0210151 - BARCARENA"
        ],
        [
         615100,
         "0615100 - IRF/BELO HORIZONTE - MG"
        ],
        [
         140151,
         "0140151 - BELA VISTA"
        ],
        [
         145352,
         "0145352 - PORTO MURTINHO"
        ],
        [
         915200,
         "0915200 - CURITIBA"
        ],
        [
         1011052,
         "1011052 - QUARAI"
        ],
        [
         920600,
         "0920600 - ITAJAI"
        ],
        [
         1015300,
         "1015300 - CHUI"
        ],
        [
         920151,
         "0920151 - IMBITUBA"
        ],
        [
         210400,
         "0210400 - MONTE DOURADO"
        ],
        [
         1010703,
         "1010703 - MONTENEGRO"
        ],
        [
         325100,
         "0325100 - PORTO DE SAO LUIS"
        ],
        [
         1015600,
         "1015600 - SANTANA DO LIVRAMENTO"
        ],
        [
         317600,
         "0317600 - PORTO DE FORTALEZA"
        ],
        [
         925200,
         "0925200 - FLORIANOPOLIS"
        ],
        [
         1010954,
         "1010954 - BARRA DO QUARAI"
        ],
        [
         417800,
         "0417800 - PORTO DE SUAPE"
        ],
        [
         1010104,
         "1010104 - SANTA CRUZ DO SUL"
        ],
        [
         515100,
         "0515100 - ILHEUS"
        ],
        [
         420153,
         "0420153 - AREIA BRANCA"
        ],
        [
         910351,
         "0910351 - SANTO ANTONIO DO SUDOESTE"
        ],
        [
         517600,
         "0517600 - PORTO DE SALVADOR"
        ],
        [
         1011200,
         "1011200 - CHUI"
        ],
        [
         1010500,
         "1010500 - RIO GRANDE"
        ],
        [
         317700,
         "0317700 - AEROPORTO INTERNACIONAL PINTO MARTINS"
        ],
        [
         917601,
         "0917601 - ANTONINA"
        ],
        [
         1011051,
         "1011051 - BAGE"
        ],
        [
         810603,
         "0810603 - CUBATAO"
        ],
        [
         140152,
         "0140152 - PORTO MURTINHO"
        ],
        [
         1011001,
         "1011001 - DOM PEDRITO"
        ],
        [
         925100,
         "0925100 - ITAJAI"
        ],
        [
         910652,
         "0910652 - SANTA HELENA"
        ],
        [
         920153,
         "0920153 - AEROP. INTERNAC. HERCILIO LUZ (SC)"
        ],
        [
         715300,
         "0715300 - ANGRA DOS REIS"
        ],
        [
         710451,
         "0710451 - MACAE"
        ],
        [
         140252,
         "0140252 - PORTO MURTINHO"
        ],
        [
         145200,
         "0145200 - CORUMBA"
        ],
        [
         517601,
         "0517601 - AEROP. INTERN. DOIS DE JULHO (BA)"
        ],
        [
         517700,
         "0517700 - AEROPORTO INTERNACIONAL DE SALVADOR DEP. LUIS EDUARDO"
        ],
        [
         517602,
         "0517602 - PORTO DE ARATU"
        ],
        [
         317601,
         "0317601 - AEROP. INTERN. PINTO MARTINS (CE)"
        ],
        [
         420151,
         "0420151 - AREIA BRANCA"
        ],
        [
         910700,
         "0910700 - PARANAGUA"
        ],
        [
         145300,
         "0145300 - PONTA PORA"
        ],
        [
         917801,
         "0917801 - ANTONINA"
        ],
        [
         220152,
         "0220152 - TABATINGA"
        ],
        [
         915100,
         "0915100 - ANTONINA"
        ],
        [
         910651,
         "0910651 - GUAIRA"
        ],
        [
         715500,
         "0715500 - MACAE"
        ],
        [
         910751,
         "0910751 - ANTONINA"
        ],
        [
         910151,
         "0910151 - SAO JOSE DOS PINHAIS"
        ],
        [
         317602,
         "0317602 - PECEM"
        ],
        [
         910601,
         "0910601 - MEDIANEIRA"
        ],
        [
         1010953,
         "1010953 - SAO BORJA"
        ],
        [
         217600,
         "0217600 - PORTO DE BELEM"
        ],
        [
         1015500,
         "1015500 - CHUI"
        ],
        [
         910600,
         "0910600 - FOZ DO IGUACU"
        ],
        [
         1010900,
         "1010900 - URUGUAIANA"
        ],
        [
         917600,
         "0917600 - PORTO DE PARANAGUA"
        ],
        [
         815300,
         "0815300 - SAO SEBASTIAO"
        ],
        [
         715400,
         "0715400 - RIO DE JANEIRO"
        ],
        [
         415100,
         "0415100 - IRF/RECIFE"
        ],
        [
         1017600,
         "1017600 - AEROPORTO SALGADO FILHO - PORTO ALEGRE"
        ],
        [
         510600,
         "0510600 - ILHEUS"
        ],
        [
         230151,
         "0230151 - BRASILEIA"
        ],
        [
         217700,
         "0217700 - AEROPORTO INTERNACIONAL DE BELEM"
        ],
        [
         925251,
         "0925251 - IMBITUBA"
        ],
        [
         917700,
         "0917700 - AEROPORTO INTERN. AFONSO PENA (PR)"
        ],
        [
         145351,
         "0145351 - BELA VISTA"
        ],
        [
         217602,
         "0217602 - BARCARENA"
        ],
        [
         1010109,
         "1010109 - NAO INFORMADO"
        ],
        [
         910,
         "0000910 - SEFAZ-SC - CONVENIO CONSULTA SISTEMA CARGA"
        ],
        [
         110100,
         "0110100 - BRASILIA"
        ],
        [
         117600,
         "0117600 - AEROPORTO INTERNACIONAL DE BRASILIA"
        ],
        [
         120100,
         "0120100 - GOIANIA"
        ],
        [
         120102,
         "0120102 - CATALAO"
        ],
        [
         120200,
         "0120200 - ANAPOLIS"
        ],
        [
         130100,
         "0130100 - CUIABA"
        ],
        [
         130151,
         "0130151 - CACERES"
        ],
        [
         140100,
         "0140100 - CAMPO GRANDE"
        ],
        [
         147600,
         "0147600 - ALF - CORUMBÁ"
        ],
        [
         147700,
         "0147700 - ALF - MUNDO NOVO"
        ],
        [
         147800,
         "0147800 - ALF - PONTA PORÃ"
        ],
        [
         147852,
         "0147852 - ARF - PORTO MURTINHO"
        ],
        [
         210100,
         "0210100 - BELEM"
        ],
        [
         210200,
         "0210200 - SANTAREM"
        ],
        [
         210252,
         "0210252 - ALMEIRIM"
        ],
        [
         210300,
         "0210300 - MARABA"
        ],
        [
         217800,
         "0217800 - ALF - BELÉM"
        ],
        [
         217801,
         "0217801 - IRF - AEROPORTO INTERNACIONAL DE BELÉM"
        ],
        [
         217802,
         "0217802 - IRF - BARCARENA"
        ],
        [
         220100,
         "0220100 - DRF MANAUS"
        ],
        [
         227600,
         "0227600 - PORTO DE MANAUS"
        ],
        [
         227603,
         "0227603 - TABATINGA"
        ],
        [
         227700,
         "0227700 - AEROPORTO EDUARDO GOMES"
        ],
        [
         230100,
         "0230100 - RIO BRANCO"
        ],
        [
         230152,
         "0230152 - CRUZEIRO DO SUL"
        ],
        [
         230154,
         "0230154 - Assis Brasil"
        ],
        [
         230155,
         "0230155 - IRF - EPITACIOLâNDIA"
        ],
        [
         240100,
         "0240100 - MACAPA"
        ],
        [
         240151,
         "0240151 - OIAPOQUE"
        ],
        [
         240152,
         "0240152 - SANTANA"
        ],
        [
         250100,
         "0250100 - PORTO VELHO"
        ],
        [
         250151,
         "0250151 - GUAJARA-MIRIM"
        ],
        [
         250152,
         "0250152 - VILHENA"
        ],
        [
         260100,
         "0260100 - BOA VISTA"
        ],
        [
         260151,
         "0260151 - PACARAIMA"
        ],
        [
         260152,
         "0260152 - BONFIM"
        ],
        [
         310100,
         "0310100 - FORTALEZA"
        ],
        [
         317900,
         "0317900 - ALF - FORTALEZA"
        ],
        [
         317901,
         "0317901 - IRF - AEROPORTO INTERNACIONAL PINTO MARTINS"
        ],
        [
         317902,
         "0317902 - IRF - PORTO DE PECÉM"
        ],
        [
         320100,
         "0320100 - SAO LUIS"
        ],
        [
         320151,
         "0320151 - IRF - PORTO DE SÃO LUÍS"
        ],
        [
         330100,
         "0330100 - TERESINA"
        ],
        [
         410100,
         "0410100 - RECIFE"
        ],
        [
         410102,
         "0410102 - GOIANA"
        ],
        [
         410251,
         "0410251 - PETROLINA"
        ],
        [
         417600,
         "0417600 - PORTO DO RECIFE"
        ],
        [
         417900,
         "0417900 - ALF - RECIFE"
        ],
        [
         417901,
         "0417901 - IRF - AEROPORTO INTERNACIONAL DOS GUARARAPES"
        ],
        [
         417902,
         "0417902 - IRF - PORTO DE SUAPE"
        ],
        [
         420100,
         "0420100 - NATAL"
        ],
        [
         420152,
         "0420152 - PARNAMIRIM"
        ],
        [
         420154,
         "0420154 - IRF NATAL"
        ],
        [
         420200,
         "0420200 - MOSSORO"
        ],
        [
         420252,
         "0420252 - AREIA BRANCA"
        ],
        [
         430100,
         "0430100 - JOAO PESSOA"
        ],
        [
         430151,
         "0430151 - CABEDELO"
        ],
        [
         440100,
         "0440100 - MACEIO"
        ],
        [
         440151,
         "0440151 - MACEIO"
        ],
        [
         510100,
         "0510100 - SALVADOR"
        ],
        [
         510300,
         "0510300 - VITORIA DA CONQUISTA"
        ],
        [
         510500,
         "0510500 - ITABUNA"
        ],
        [
         510551,
         "0510551 - PORTO SEGURO"
        ],
        [
         510552,
         "0510552 - ILHEUS"
        ],
        [
         517800,
         "0517800 - ALF - SALVADOR"
        ],
        [
         517801,
         "0517801 - IRF - AEROPORTO INTERNACIONAL DE SALVADOR"
        ],
        [
         520100,
         "0520100 - ARACAJU"
        ],
        [
         520105,
         "0520105 - PROPRIA"
        ],
        [
         610100,
         "0610100 - BELO HORIZONTE"
        ],
        [
         610300,
         "0610300 - GOVERNADOR VALADARES"
        ],
        [
         610301,
         "0610301 - TEOFILO OTONI"
        ],
        [
         610400,
         "0610400 - JUIZ DE FORA"
        ],
        [
         610500,
         "0610500 - UBERABA"
        ],
        [
         610600,
         "0610600 - VARGINHA"
        ],
        [
         610900,
         "0610900 - UBERLANDIA"
        ],
        [
         611000,
         "0611000 - CONTAGEM"
        ],
        [
         617600,
         "0617600 - AEROPORTO TANCREDO NEVES"
        ],
        [
         617700,
         "0617700 - ALF - BELO HORIZONTE"
        ],
        [
         617701,
         "0617701 - IRF - AEROPORTO INTERNACIONAL DE CONFINS"
        ],
        [
         710100,
         "0710100 - RIO DE JANEIRO/CENTRO-SUL"
        ],
        [
         710200,
         "0710200 - NITEROI"
        ],
        [
         710203,
         "0710203 - CABO FRIO"
        ],
        [
         710300,
         "0710300 - NOVA IGUACU"
        ],
        [
         710301,
         "0710301 - DUQUE DE CAXIAS"
        ],
        [
         710400,
         "0710400 - CAMPOS DOS GOITACAZES"
        ],
        [
         710500,
         "0710500 - VOLTA REDONDA"
        ],
        [
         710504,
         "0710504 - ANGRA DOS REIS"
        ],
        [
         710600,
         "0710600 - RIO DE JANEIRO/CENTRO-NORTE"
        ],
        [
         711000,
         "0711000 - MACAE"
        ],
        [
         717600,
         "0717600 - PORTO DO RIO DE JANEIRO"
        ],
        [
         717700,
         "0717700 - AEROPORTO INTERNACIONAL DO RIO DE JANEIRO"
        ],
        [
         717800,
         "0717800 - PORTO DE ITAGUAI"
        ],
        [
         720100,
         "0720100 - VITORIA"
        ],
        [
         727600,
         "0727600 - PORTO DE VITORIA"
        ],
        [
         810100,
         "0810100 - SAO PAULO/CENTRO NORTE"
        ],
        [
         810300,
         "0810300 - BAURU"
        ],
        [
         810303,
         "0810303 - JAU"
        ],
        [
         810400,
         "0810400 - CAMPINAS"
        ],
        [
         810500,
         "0810500 - PRESIDENTE PRUDENTE"
        ],
        [
         810600,
         "0810600 - SANTOS"
        ],
        [
         810700,
         "0810700 - SAO JOSE DO RIO PRETO"
        ],
        [
         810800,
         "0810800 - TAUBATE"
        ],
        [
         810803,
         "0810803 - GUARATINGUETA"
        ],
        [
         810900,
         "0810900 - RIBEIRAO PRETO"
        ],
        [
         810904,
         "0810904 - BEBEDOURO"
        ],
        [
         811000,
         "0811000 - SOROCABA"
        ],
        [
         811100,
         "0811100 - GUARULHOS"
        ],
        [
         811200,
         "0811200 - LIMEIRA"
        ],
        [
         811300,
         "0811300 - OSASCO"
        ],
        [
         811401,
         "0811401 - DIADEMA"
        ],
        [
         811404,
         "0811404 - SAO BERNARDO DO CAMPO"
        ],
        [
         812000,
         "0812000 - SAO JOSE DOS CAMPOS"
        ],
        [
         812051,
         "0812051 - SAO SEBASTIAO"
        ],
        [
         812300,
         "0812300 - FRANCA"
        ],
        [
         812400,
         "0812400 - JUNDIAI"
        ],
        [
         812500,
         "0812500 - PIRACICABA"
        ],
        [
         815500,
         "0815500 - SAO PAULO"
        ],
        [
         817600,
         "0817600 - AEROPORTO INTERNACIONAL DE SAO PAULO/GUARULHOS"
        ],
        [
         817700,
         "0817700 - AEROPORTO INTERNACIONAL DE VIRACOPOS"
        ],
        [
         817800,
         "0817800 - PORTO DE SANTOS"
        ],
        [
         817900,
         "0817900 - SAO PAULO"
        ],
        [
         910100,
         "0910100 - CURITIBA"
        ],
        [
         910200,
         "0910200 - LONDRINA"
        ],
        [
         910300,
         "0910300 - CASCAVEL"
        ],
        [
         910400,
         "0910400 - PONTA GROSSA"
        ],
        [
         910500,
         "0910500 - MARINGA"
        ],
        [
         910506,
         "0910506 - UMUARAMA"
        ],
        [
         917500,
         "0917500 - ALF - FOZ DO IGUAÇU"
        ],
        [
         917501,
         "0917501 - IRF - GUAÍRA"
        ],
        [
         917502,
         "0917502 - IRF - SANTA HELENA"
        ],
        [
         917800,
         "0917800 - PORTO DE PARANAGUA"
        ],
        [
         917900,
         "0917900 - ALF - CURITIBA"
        ],
        [
         917901,
         "0917901 - IRF - AEROPORTO INTERNACIONAL AFONSO PENA"
        ],
        [
         920100,
         "0920100 - FLORIANOPOLIS"
        ],
        [
         920102,
         "0920102 - CRICIUMA"
        ],
        [
         920200,
         "0920200 - JOINVILLE"
        ],
        [
         920203,
         "0920203 - JARAGUA DO SUL"
        ],
        [
         927501,
         "0927501 - IRF - AEROPORTO INTERNACIONAL DE FLORIANÓPOLIS"
        ],
        [
         927502,
         "0927502 - IRF - IMBITUBA"
        ],
        [
         927600,
         "0927600 - AEROPORTO DE FLORIANOPOLIS"
        ],
        [
         927601,
         "0927601 - IMBITUBA"
        ],
        [
         927700,
         "0927700 - PORTO DE SAO FRANCISCO DO SUL"
        ],
        [
         927800,
         "0927800 - ITAJAI"
        ],
        [
         927900,
         "0927900 - ALF - DIONÍSIO CERQUEIRA"
        ],
        [
         1010103,
         "1010103 - GUAIBA"
        ],
        [
         1010151,
         "1010151 - TRAMANDAI"
        ],
        [
         1010200,
         "1010200 - PELOTAS"
        ],
        [
         1010252,
         "1010252 - JAGUARAO"
        ],
        [
         1010253,
         "1010253 - BAGE"
        ],
        [
         1010300,
         "1010300 - SANTA MARIA"
        ],
        [
         1010600,
         "1010600 - CAXIAS DO SUL"
        ],
        [
         1010700,
         "1010700 - NOVO HAMBURGO"
        ],
        [
         1010851,
         "1010851 - PORTO MAUA"
        ],
        [
         1010852,
         "1010852 - PORTO XAVIER"
        ],
        [
         1011100,
         "1011100 - SANTA CRUZ DO SUL"
        ],
        [
         1017500,
         "1017500 - ALF - URUGUAIANA"
        ],
        [
         1017501,
         "1017501 - IRF - ITAQUI"
        ],
        [
         1017502,
         "1017502 - IRF - QUARAÍ"
        ],
        [
         1017503,
         "1017503 - IRF - SÃO BORJA"
        ],
        [
         1017551,
         "1017551 - ARF - BARRA DO QUARAÍ"
        ],
        [
         1017700,
         "1017700 - PORTO DE RIO GRANDE"
        ],
        [
         1017701,
         "1017701 - IRF - CHUÍ"
        ],
        [
         1017800,
         "1017800 - ALF - PORTO ALEGRE"
        ],
        [
         1017801,
         "1017801 - IRF - AEROPORTO INTERNACIONAL SALGADO FILHO"
        ],
        [
         1017900,
         "1017900 - ALF - SANTANA DO LIVRAMENTO"
        ],
        [
         815400,
         "0815400 - NAO INFORMADO"
        ],
        [
         927500,
         "0927500 - ALF - FLORIANÓPOLIS"
        ],
        [
         710252,
         "0710252 - IRF MACAE"
        ]
       ],
       "datasetInfos": [
        {
         "name": "_sqldf",
         "schema": {
          "fields": [
           {
            "metadata": {},
            "name": "CO_URF",
            "nullable": true,
            "type": "long"
           },
           {
            "metadata": {},
            "name": "NO_URF",
            "nullable": true,
            "type": "string"
           }
          ],
          "type": "struct"
         },
         "tableIdentifier": null,
         "typeStr": "pyspark.sql.dataframe.DataFrame"
        }
       ],
       "dbfsResultPath": null,
       "isJsonSchema": true,
       "metadata": {
        "dataframeName": "_sqldf",
        "executionCount": 1
       },
       "overflow": false,
       "plotOptions": {
        "customPlotOptions": {},
        "displayType": "table",
        "pivotAggregation": null,
        "pivotColumns": null,
        "xColumns": null,
        "yColumns": null
       },
       "removedWidgets": [],
       "schema": [
        {
         "metadata": "{}",
         "name": "CO_URF",
         "type": "\"long\""
        },
        {
         "metadata": "{}",
         "name": "NO_URF",
         "type": "\"string\""
        }
       ],
       "type": "table"
      }
     },
     "output_type": "display_data"
    }
   ],
   "source": [
    "%sql\n",
    "\n",
    "-- faz um select para verificar a tabela que está na camada bronze\n",
    "\n",
    "select * from bronze.co_urf"
   ]
  },
  {
   "cell_type": "code",
   "execution_count": 0,
   "metadata": {
    "application/vnd.databricks.v1+cell": {
     "cellMetadata": {
      "byteLimit": 2048000,
      "rowLimit": 10000
     },
     "inputWidgets": {},
     "nuid": "366b554d-9165-4a70-a824-b708e0124ce6",
     "showTitle": false,
     "title": ""
    }
   },
   "outputs": [],
   "source": [
    "mapping_columns = {\n",
    "    'CO_URF':'cod_unidade_federativa',\n",
    "    'NO_URF':'nm_unidade_federativa'\n",
    "}"
   ]
  },
  {
   "cell_type": "code",
   "execution_count": 0,
   "metadata": {
    "application/vnd.databricks.v1+cell": {
     "cellMetadata": {
      "byteLimit": 2048000,
      "rowLimit": 10000
     },
     "inputWidgets": {},
     "nuid": "5c8a97c3-cb55-434b-b047-644a205034e6",
     "showTitle": false,
     "title": ""
    }
   },
   "outputs": [],
   "source": [
    "from pyspark.sql.functions import col\n",
    "\n",
    "# Crie um DataFrame a partir da consulta SQL\n",
    "df = spark.sql(\"\"\"\n",
    "SELECT *\n",
    "FROM bronze.co_urf\n",
    "\n",
    "\"\"\")\n",
    "\n",
    "\n",
    "# Renomeie as colunas de acordo com o mapeamento\n",
    "for old_col, new_col in mapping_columns.items():\n",
    "    df = df.withColumnRenamed(old_col, new_col)"
   ]
  },
  {
   "cell_type": "code",
   "execution_count": 0,
   "metadata": {
    "application/vnd.databricks.v1+cell": {
     "cellMetadata": {
      "byteLimit": 2048000,
      "rowLimit": 10000
     },
     "inputWidgets": {},
     "nuid": "54d4209d-9e0a-4b93-8c94-34b94f13068f",
     "showTitle": false,
     "title": ""
    }
   },
   "outputs": [],
   "source": [
    "# Crie a view temporária com o DataFrame renomeado\n",
    "df.createOrReplaceTempView('vw_co_urf')"
   ]
  },
  {
   "cell_type": "code",
   "execution_count": 0,
   "metadata": {
    "application/vnd.databricks.v1+cell": {
     "cellMetadata": {
      "byteLimit": 2048000,
      "rowLimit": 10000
     },
     "inputWidgets": {},
     "nuid": "45bab523-ca05-4781-91f3-c8e3597f36b7",
     "showTitle": false,
     "title": ""
    }
   },
   "outputs": [],
   "source": [
    "permanent_table = \"d_urf\"\n",
    "\n",
    "df.write.format(\"parquet\").saveAsTable(permanent_table)"
   ]
  },
  {
   "cell_type": "code",
   "execution_count": 0,
   "metadata": {
    "application/vnd.databricks.v1+cell": {
     "cellMetadata": {
      "byteLimit": 2048000,
      "implicitDf": true,
      "rowLimit": 10000
     },
     "inputWidgets": {},
     "nuid": "095a3560-57e6-4c6e-9f0e-cae8ee4d68cd",
     "showTitle": false,
     "title": ""
    }
   },
   "outputs": [
    {
     "output_type": "display_data",
     "data": {
      "text/html": [
       "<style scoped>\n",
       "  .table-result-container {\n",
       "    max-height: 300px;\n",
       "    overflow: auto;\n",
       "  }\n",
       "  table, th, td {\n",
       "    border: 1px solid black;\n",
       "    border-collapse: collapse;\n",
       "  }\n",
       "  th, td {\n",
       "    padding: 5px;\n",
       "  }\n",
       "  th {\n",
       "    text-align: left;\n",
       "  }\n",
       "</style><div class='table-result-container'><table class='table-result'><thead style='background-color: white'><tr><th>num_affected_rows</th><th>num_inserted_rows</th></tr></thead><tbody></tbody></table></div>"
      ]
     },
     "metadata": {
      "application/vnd.databricks.v1+output": {
       "addedWidgets": {},
       "aggData": [],
       "aggError": "",
       "aggOverflow": false,
       "aggSchema": [],
       "aggSeriesLimitReached": false,
       "aggType": "",
       "arguments": {},
       "columnCustomDisplayInfos": {},
       "data": [],
       "datasetInfos": [
        {
         "name": "_sqldf",
         "schema": {
          "fields": [
           {
            "metadata": {},
            "name": "num_affected_rows",
            "nullable": true,
            "type": "long"
           },
           {
            "metadata": {},
            "name": "num_inserted_rows",
            "nullable": true,
            "type": "long"
           }
          ],
          "type": "struct"
         },
         "tableIdentifier": null,
         "typeStr": "pyspark.sql.dataframe.DataFrame"
        }
       ],
       "dbfsResultPath": null,
       "isJsonSchema": true,
       "metadata": {
        "dataframeName": "_sqldf",
        "executionCount": 5
       },
       "overflow": false,
       "plotOptions": {
        "customPlotOptions": {},
        "displayType": "table",
        "pivotAggregation": null,
        "pivotColumns": null,
        "xColumns": null,
        "yColumns": null
       },
       "removedWidgets": [],
       "schema": [
        {
         "metadata": "{}",
         "name": "num_affected_rows",
         "type": "\"long\""
        },
        {
         "metadata": "{}",
         "name": "num_inserted_rows",
         "type": "\"long\""
        }
       ],
       "type": "table"
      }
     },
     "output_type": "display_data"
    }
   ],
   "source": [
    "%sql\n",
    "\n",
    "-- mudando a tabela para o schema silver\n",
    "\n",
    "CREATE TABLE IF NOT EXISTS gold.d_unidade_federativa AS SELECT * FROM default.d_urf;"
   ]
  }
 ],
 "metadata": {
  "application/vnd.databricks.v1+notebook": {
   "dashboards": [],
   "language": "python",
   "notebookMetadata": {
    "mostRecentlyExecutedCommandWithImplicitDF": {
     "commandId": 391859381773017,
     "dataframes": [
      "_sqldf"
     ]
    },
    "pythonIndentUnit": 4
   },
   "notebookName": "d_unidade_federativa",
   "widgets": {}
  }
 },
 "nbformat": 4,
 "nbformat_minor": 0
}
