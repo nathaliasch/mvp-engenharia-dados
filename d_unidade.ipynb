{
 "cells": [
  {
   "cell_type": "markdown",
   "metadata": {
    "application/vnd.databricks.v1+cell": {
     "cellMetadata": {
      "byteLimit": 2048000,
      "rowLimit": 10000
     },
     "inputWidgets": {},
     "nuid": "1bc95398-787f-40cb-a82c-acc8ce320c67",
     "showTitle": false,
     "title": ""
    }
   },
   "source": [
    "\n",
    "## Extração da dimensão d_unidade para a camada gold\n"
   ]
  },
  {
   "cell_type": "code",
   "execution_count": 0,
   "metadata": {
    "application/vnd.databricks.v1+cell": {
     "cellMetadata": {
      "byteLimit": 2048000,
      "implicitDf": true,
      "rowLimit": 10000
     },
     "inputWidgets": {},
     "nuid": "23b403d3-dcb9-48e9-9c36-4671f16a5470",
     "showTitle": false,
     "title": ""
    }
   },
   "outputs": [
    {
     "output_type": "display_data",
     "data": {
      "text/html": [
       "<style scoped>\n",
       "  .table-result-container {\n",
       "    max-height: 300px;\n",
       "    overflow: auto;\n",
       "  }\n",
       "  table, th, td {\n",
       "    border: 1px solid black;\n",
       "    border-collapse: collapse;\n",
       "  }\n",
       "  th, td {\n",
       "    padding: 5px;\n",
       "  }\n",
       "  th {\n",
       "    text-align: left;\n",
       "  }\n",
       "</style><div class='table-result-container'><table class='table-result'><thead style='background-color: white'><tr><th>CO_UNID</th><th>NO_UNID</th><th>SG_UNID</th></tr></thead><tbody><tr><td>10</td><td>QUILOGRAMA LIQUIDO</td><td>KGL  </td></tr><tr><td>11</td><td>NUMERO (UNIDADE)</td><td>UNID.</td></tr><tr><td>12</td><td>MILHEIRO</td><td>MIL  </td></tr><tr><td>13</td><td>PARES</td><td>PARES</td></tr><tr><td>14</td><td>METRO</td><td>M    </td></tr><tr><td>15</td><td>METRO QUADRADO</td><td>M2   </td></tr><tr><td>16</td><td>METRO CUBICO</td><td>M3   </td></tr><tr><td>17</td><td>LITRO</td><td>LITRO</td></tr><tr><td>18</td><td>MIL QUILOWATT HORA</td><td>MKW/H</td></tr><tr><td>19</td><td>QUILATE</td><td>QUILT</td></tr><tr><td>20</td><td>DUZIA</td><td>DUZIA</td></tr><tr><td>21</td><td>TONELADA METRICA LIQUIDA</td><td>TML  </td></tr><tr><td>22</td><td>GRAMA LIQUIDO</td><td>GRAMA</td></tr><tr><td>23</td><td>BILHOES DE UNIDADES INTERNACIONAIS</td><td>BUI  </td></tr><tr><td>24</td><td>QUILOGRAMA BRUTO</td><td>KGBR </td></tr></tbody></table></div>"
      ]
     },
     "metadata": {
      "application/vnd.databricks.v1+output": {
       "addedWidgets": {},
       "aggData": [],
       "aggError": "",
       "aggOverflow": false,
       "aggSchema": [],
       "aggSeriesLimitReached": false,
       "aggType": "",
       "arguments": {},
       "columnCustomDisplayInfos": {},
       "data": [
        [
         10,
         "QUILOGRAMA LIQUIDO",
         "KGL  "
        ],
        [
         11,
         "NUMERO (UNIDADE)",
         "UNID."
        ],
        [
         12,
         "MILHEIRO",
         "MIL  "
        ],
        [
         13,
         "PARES",
         "PARES"
        ],
        [
         14,
         "METRO",
         "M    "
        ],
        [
         15,
         "METRO QUADRADO",
         "M2   "
        ],
        [
         16,
         "METRO CUBICO",
         "M3   "
        ],
        [
         17,
         "LITRO",
         "LITRO"
        ],
        [
         18,
         "MIL QUILOWATT HORA",
         "MKW/H"
        ],
        [
         19,
         "QUILATE",
         "QUILT"
        ],
        [
         20,
         "DUZIA",
         "DUZIA"
        ],
        [
         21,
         "TONELADA METRICA LIQUIDA",
         "TML  "
        ],
        [
         22,
         "GRAMA LIQUIDO",
         "GRAMA"
        ],
        [
         23,
         "BILHOES DE UNIDADES INTERNACIONAIS",
         "BUI  "
        ],
        [
         24,
         "QUILOGRAMA BRUTO",
         "KGBR "
        ]
       ],
       "datasetInfos": [
        {
         "name": "_sqldf",
         "schema": {
          "fields": [
           {
            "metadata": {},
            "name": "CO_UNID",
            "nullable": true,
            "type": "long"
           },
           {
            "metadata": {},
            "name": "NO_UNID",
            "nullable": true,
            "type": "string"
           },
           {
            "metadata": {},
            "name": "SG_UNID",
            "nullable": true,
            "type": "string"
           }
          ],
          "type": "struct"
         },
         "tableIdentifier": null,
         "typeStr": "pyspark.sql.dataframe.DataFrame"
        }
       ],
       "dbfsResultPath": null,
       "isJsonSchema": true,
       "metadata": {
        "dataframeName": "_sqldf",
        "executionCount": 1
       },
       "overflow": false,
       "plotOptions": {
        "customPlotOptions": {},
        "displayType": "table",
        "pivotAggregation": null,
        "pivotColumns": null,
        "xColumns": null,
        "yColumns": null
       },
       "removedWidgets": [],
       "schema": [
        {
         "metadata": "{}",
         "name": "CO_UNID",
         "type": "\"long\""
        },
        {
         "metadata": "{}",
         "name": "NO_UNID",
         "type": "\"string\""
        },
        {
         "metadata": "{}",
         "name": "SG_UNID",
         "type": "\"string\""
        }
       ],
       "type": "table"
      }
     },
     "output_type": "display_data"
    }
   ],
   "source": [
    "%sql\n",
    "\n",
    "-- faz um select para verificar a tabela que está na camada bronze\n",
    "\n",
    "select * from bronze.co_unid"
   ]
  },
  {
   "cell_type": "code",
   "execution_count": 0,
   "metadata": {
    "application/vnd.databricks.v1+cell": {
     "cellMetadata": {
      "byteLimit": 2048000,
      "rowLimit": 10000
     },
     "inputWidgets": {},
     "nuid": "366b554d-9165-4a70-a824-b708e0124ce6",
     "showTitle": false,
     "title": ""
    }
   },
   "outputs": [],
   "source": [
    "mapping_columns = {\n",
    "    'CO_UNID':'cod_unidade',\n",
    "    'NO_UNID':'nm_unidade',\n",
    "    'SG_UNID':'nm_sigla'    \n",
    "}"
   ]
  },
  {
   "cell_type": "code",
   "execution_count": 0,
   "metadata": {
    "application/vnd.databricks.v1+cell": {
     "cellMetadata": {
      "byteLimit": 2048000,
      "rowLimit": 10000
     },
     "inputWidgets": {},
     "nuid": "5c8a97c3-cb55-434b-b047-644a205034e6",
     "showTitle": false,
     "title": ""
    }
   },
   "outputs": [],
   "source": [
    "from pyspark.sql.functions import col\n",
    "\n",
    "# Crie um DataFrame a partir da consulta SQL\n",
    "df = spark.sql(\"\"\"\n",
    "SELECT *\n",
    "FROM bronze.co_unid\n",
    "\n",
    "\"\"\")\n",
    "\n",
    "\n",
    "# Renomeie as colunas de acordo com o mapeamento\n",
    "for old_col, new_col in mapping_columns.items():\n",
    "    df = df.withColumnRenamed(old_col, new_col)"
   ]
  },
  {
   "cell_type": "code",
   "execution_count": 0,
   "metadata": {
    "application/vnd.databricks.v1+cell": {
     "cellMetadata": {
      "byteLimit": 2048000,
      "rowLimit": 10000
     },
     "inputWidgets": {},
     "nuid": "54d4209d-9e0a-4b93-8c94-34b94f13068f",
     "showTitle": false,
     "title": ""
    }
   },
   "outputs": [],
   "source": [
    "# Crie a view temporária com o DataFrame renomeado\n",
    "df.createOrReplaceTempView('vw_co_unid')"
   ]
  },
  {
   "cell_type": "code",
   "execution_count": 0,
   "metadata": {
    "application/vnd.databricks.v1+cell": {
     "cellMetadata": {
      "byteLimit": 2048000,
      "rowLimit": 10000
     },
     "inputWidgets": {},
     "nuid": "45bab523-ca05-4781-91f3-c8e3597f36b7",
     "showTitle": false,
     "title": ""
    }
   },
   "outputs": [],
   "source": [
    "permanent_table = \"d_unidade\"\n",
    "\n",
    "df.write.format(\"parquet\").saveAsTable(permanent_table)"
   ]
  },
  {
   "cell_type": "code",
   "execution_count": 0,
   "metadata": {
    "application/vnd.databricks.v1+cell": {
     "cellMetadata": {
      "byteLimit": 2048000,
      "implicitDf": true,
      "rowLimit": 10000
     },
     "inputWidgets": {},
     "nuid": "095a3560-57e6-4c6e-9f0e-cae8ee4d68cd",
     "showTitle": false,
     "title": ""
    }
   },
   "outputs": [
    {
     "output_type": "display_data",
     "data": {
      "text/html": [
       "<style scoped>\n",
       "  .table-result-container {\n",
       "    max-height: 300px;\n",
       "    overflow: auto;\n",
       "  }\n",
       "  table, th, td {\n",
       "    border: 1px solid black;\n",
       "    border-collapse: collapse;\n",
       "  }\n",
       "  th, td {\n",
       "    padding: 5px;\n",
       "  }\n",
       "  th {\n",
       "    text-align: left;\n",
       "  }\n",
       "</style><div class='table-result-container'><table class='table-result'><thead style='background-color: white'><tr><th>num_affected_rows</th><th>num_inserted_rows</th></tr></thead><tbody></tbody></table></div>"
      ]
     },
     "metadata": {
      "application/vnd.databricks.v1+output": {
       "addedWidgets": {},
       "aggData": [],
       "aggError": "",
       "aggOverflow": false,
       "aggSchema": [],
       "aggSeriesLimitReached": false,
       "aggType": "",
       "arguments": {},
       "columnCustomDisplayInfos": {},
       "data": [],
       "datasetInfos": [
        {
         "name": "_sqldf",
         "schema": {
          "fields": [
           {
            "metadata": {},
            "name": "num_affected_rows",
            "nullable": true,
            "type": "long"
           },
           {
            "metadata": {},
            "name": "num_inserted_rows",
            "nullable": true,
            "type": "long"
           }
          ],
          "type": "struct"
         },
         "tableIdentifier": null,
         "typeStr": "pyspark.sql.dataframe.DataFrame"
        }
       ],
       "dbfsResultPath": null,
       "isJsonSchema": true,
       "metadata": {
        "dataframeName": "_sqldf",
        "executionCount": 5
       },
       "overflow": false,
       "plotOptions": {
        "customPlotOptions": {},
        "displayType": "table",
        "pivotAggregation": null,
        "pivotColumns": null,
        "xColumns": null,
        "yColumns": null
       },
       "removedWidgets": [],
       "schema": [
        {
         "metadata": "{}",
         "name": "num_affected_rows",
         "type": "\"long\""
        },
        {
         "metadata": "{}",
         "name": "num_inserted_rows",
         "type": "\"long\""
        }
       ],
       "type": "table"
      }
     },
     "output_type": "display_data"
    }
   ],
   "source": [
    "%sql\n",
    "\n",
    "-- mudando a tabela para o schema silver\n",
    "\n",
    "CREATE TABLE IF NOT EXISTS gold.d_unidade AS SELECT * FROM default.d_unidade;"
   ]
  }
 ],
 "metadata": {
  "application/vnd.databricks.v1+notebook": {
   "dashboards": [],
   "language": "python",
   "notebookMetadata": {
    "mostRecentlyExecutedCommandWithImplicitDF": {
     "commandId": 391859381773001,
     "dataframes": [
      "_sqldf"
     ]
    },
    "pythonIndentUnit": 4
   },
   "notebookName": "d_unidade",
   "widgets": {}
  }
 },
 "nbformat": 4,
 "nbformat_minor": 0
}
